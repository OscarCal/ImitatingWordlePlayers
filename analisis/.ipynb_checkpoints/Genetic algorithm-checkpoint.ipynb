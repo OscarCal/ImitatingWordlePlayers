{
 "cells": [
  {
   "cell_type": "code",
   "execution_count": 225,
   "id": "d6e4bc85",
   "metadata": {},
   "outputs": [],
   "source": [
    "from random import choice, sample, randrange, random, shuffle\n",
    "from string import ascii_lowercase\n",
    "import numpy as np\n",
    "from itertools import permutations"
   ]
  },
  {
   "cell_type": "markdown",
   "id": "8ff59f6c",
   "metadata": {},
   "source": [
    "### Defining the fitness function"
   ]
  },
  {
   "cell_type": "markdown",
   "id": "94ce19d0",
   "metadata": {},
   "source": [
    "$fitness(w) = \\sum^{nºguesses}_{i=1}(|correct(g_i,w) - c_i|+|misplaced(g_i,w) - m_i|)$"
   ]
  },
  {
   "cell_type": "markdown",
   "id": "5cd9dfb0",
   "metadata": {},
   "source": [
    "Where $w$ is a word for which we will evaluate the fitness, $g_i$ is the guess played on turn $i$, $c_i$ is the number of correct values obtained in the guess $i$, $correct(g,r)$ return the number of correct positions in a Wordle game provided that $g$ is the attempt and $w$ is the secret word, $misplaced(g,w)$ returns the number of misplaced letters given that $g$ is the attempt and $w$ is the secret word, $m_i$ is the number of misplaced letters obtained in the attempt $i$. "
   ]
  },
  {
   "cell_type": "code",
   "execution_count": 2,
   "id": "3f164ab7",
   "metadata": {},
   "outputs": [],
   "source": [
    "def find(s, ch):\n",
    "    return [i for i, ltr in enumerate(s) if ltr == ch]\n",
    "\n",
    "def check_words(input_word ,target):\n",
    "    input_word = input_word.lower()\n",
    "    target = target.lower()\n",
    "    sequence = ['⬜']*5\n",
    "    selected = [False]*5\n",
    "    for i in range(0,5):\n",
    "        if input_word[i] == target[i]:\n",
    "            sequence[i] = '🟩'\n",
    "            selected[i] = True\n",
    "    for i in range(0,5):\n",
    "        if input_word[i] != target[i]:\n",
    "            indexes = find(target, input_word[i])\n",
    "            for index in indexes:\n",
    "                if not selected[index]:\n",
    "                    selected[index] = True\n",
    "                    sequence[i] = '🟨'\n",
    "                    break\n",
    "    aux = \"\"\n",
    "    return aux.join(sequence)"
   ]
  },
  {
   "cell_type": "code",
   "execution_count": 3,
   "id": "67b3aca1",
   "metadata": {},
   "outputs": [],
   "source": [
    "game_state = [('Hello', '🟩🟩🟨🟨🟨')]"
   ]
  },
  {
   "cell_type": "code",
   "execution_count": 135,
   "id": "0adf2f84",
   "metadata": {},
   "outputs": [],
   "source": [
    "def fitness(word, game_state):\n",
    "    sum = 0\n",
    "    for guess, result in game_state:\n",
    "        match = result.count('🟩')\n",
    "        misplaced =  result.count('🟨')\n",
    "        result = check_words(guess, word)\n",
    "        pos_match = result.count('🟩')\n",
    "        pos_misplaced = result.count('🟨')\n",
    "        sum += abs(pos_match - match) + abs(pos_misplaced - misplaced) + abs(match + misplaced - pos_match - pos_misplaced)\n",
    "    return sum"
   ]
  },
  {
   "cell_type": "markdown",
   "id": "7239f075",
   "metadata": {},
   "source": [
    "### Defining mutation\n",
    "Mutation occurs when a random letter of the word is changed."
   ]
  },
  {
   "cell_type": "code",
   "execution_count": 5,
   "id": "baa16a85",
   "metadata": {},
   "outputs": [],
   "source": [
    "def mutate(word, prob=0.03):\n",
    "    if random() < prob:\n",
    "        word = list(word)\n",
    "        word[randrange(len(word))] = choice(ascii_lowercase)\n",
    "        word = ''.join(word)\n",
    "    return word"
   ]
  },
  {
   "cell_type": "markdown",
   "id": "191a8389",
   "metadata": {},
   "source": [
    "### Defining permutation\n",
    "Permutation occurs when two letters from a word are switched"
   ]
  },
  {
   "cell_type": "code",
   "execution_count": 6,
   "id": "bcc6fb00",
   "metadata": {},
   "outputs": [],
   "source": [
    "def permute(word, prob=0.03):\n",
    "    if random() < prob:\n",
    "        idx1, idx2 = sample(range(len(word)), 2)\n",
    "        word = list(word)\n",
    "        word[idx1], word[idx2] = word[idx2], word[idx1]\n",
    "        word = ''.join(word)\n",
    "    return word"
   ]
  },
  {
   "cell_type": "markdown",
   "id": "332bce2d",
   "metadata": {},
   "source": [
    "### Defining inversion\n",
    "Inversion occurs when two positions are randomly selected and the sequence of letters between is inverted."
   ]
  },
  {
   "cell_type": "code",
   "execution_count": 7,
   "id": "54edcca2",
   "metadata": {},
   "outputs": [],
   "source": [
    "def invert(word, prob=0.02):\n",
    "    if random() < prob:\n",
    "        idx1, idx2 = sample(range(len(word)), 2)\n",
    "        idx1, idx2 = min(idx1,idx2), max(idx1,idx2)\n",
    "        word = list(word)\n",
    "        word[idx1:idx2] = reversed(word[idx1:idx2])\n",
    "        word = ''.join(word)\n",
    "    return word"
   ]
  },
  {
   "cell_type": "markdown",
   "id": "de26b24a",
   "metadata": {},
   "source": [
    "### Defining crossover"
   ]
  },
  {
   "cell_type": "code",
   "execution_count": 8,
   "id": "350955bd",
   "metadata": {},
   "outputs": [],
   "source": [
    "def crossover(parent1, parent2, prob=0.5):\n",
    "    child1, child2 = parent1, parent2\n",
    "    if random() < prob:\n",
    "        split = randrange(1, len(parent1)-1)\n",
    "        child1 = parent1[:split] + parent2[split:]\n",
    "        child2 = parent2[:split] + parent1[split:]\n",
    "    return [child1, child2]"
   ]
  },
  {
   "cell_type": "markdown",
   "id": "b9624068",
   "metadata": {},
   "source": [
    "### Defining selection\n",
    "We will use tournament based selection."
   ]
  },
  {
   "cell_type": "code",
   "execution_count": 9,
   "id": "053e8d8b",
   "metadata": {},
   "outputs": [],
   "source": [
    "def selection(fitnesses, population, k=20, keep_size=True):\n",
    "    k = min(k, len(population))\n",
    "    def random_tournament():\n",
    "        selected_idx = randrange(len(population))\n",
    "        for idx in sample(range(len(population)), k=k):\n",
    "            if fitnesses[idx] > fitnesses[selected_idx]:\n",
    "                selected_idx = idx\n",
    "        return population[selected_idx]\n",
    "    return [random_tournament() for _ in range(len(population))]"
   ]
  },
  {
   "cell_type": "markdown",
   "id": "41b4bfdb",
   "metadata": {},
   "source": [
    "### Creating the model"
   ]
  },
  {
   "cell_type": "code",
   "execution_count": 10,
   "id": "418435ee",
   "metadata": {},
   "outputs": [],
   "source": [
    "def wordle_genetic(game_state, guess_count, pop_size, possible_guesses, max_gen, tour_size, crossover_prob,\n",
    "                   mutate_prob, permute_prob, invert_prob):\n",
    "    \n",
    "    if guess_count == 0:\n",
    "        possible_guesses.remove('about')\n",
    "        return \"ABOUT\"\n",
    "\n",
    "    # create population\n",
    "    sample_size = min(pop_size, len(possible_guesses))\n",
    "    population = sample(possible_guesses, sample_size)\n",
    "    eligible_words = set()\n",
    "    generation = 0\n",
    "\n",
    "    # do genetic iterations\n",
    "    while generation < max_gen:\n",
    "        # selection\n",
    "        fitnesses = [fitness(p, game_state) for p in population]\n",
    "        selected = selection(fitnesses, population, k=tour_size)\n",
    "\n",
    "        # new generation\n",
    "        new_pop = []\n",
    "        for p1, p2 in zip(selected[0::2], selected[1::2]):\n",
    "            for c in crossover(p1, p2, prob=crossover_prob):\n",
    "                c = mutate(c, prob=mutate_prob)\n",
    "                c = permute(c, prob=permute_prob)\n",
    "                c = invert(c, prob=invert_prob)\n",
    "\n",
    "                if (c in eligible_words) or (c not in possible_guesses):\n",
    "                    new_pop.append(choice(tuple(possible_guesses)))\n",
    "                else:\n",
    "                    new_pop.append(c)\n",
    "\n",
    "        population = new_pop\n",
    "        eligible_words.update(population)\n",
    "\n",
    "        generation += 1\n",
    "\n",
    "    # choose word in eligible_words with maximum\n",
    "    best_word = min(eligible_words, key=lambda x: fitness(x, game_state))\n",
    "    possible_guesses.remove(best_word)\n",
    "    return best_word"
   ]
  },
  {
   "cell_type": "code",
   "execution_count": 11,
   "id": "9fd51a9f",
   "metadata": {},
   "outputs": [],
   "source": [
    "valid_inputs = []\n",
    "with open(\"valid-wordle-words.txt\") as f:\n",
    "    valid_inputs = f.read().splitlines()"
   ]
  },
  {
   "cell_type": "code",
   "execution_count": 12,
   "id": "10aa2e70",
   "metadata": {},
   "outputs": [
    {
     "name": "stdout",
     "output_type": "stream",
     "text": [
      "🟩🟩⬜⬜⬜ ABOUT\n"
     ]
    },
    {
     "name": "stderr",
     "output_type": "stream",
     "text": [
      "C:\\Users\\LENOVO\\AppData\\Local\\Temp\\ipykernel_9448\\3451594227.py:10: DeprecationWarning: Sampling from a set deprecated\n",
      "since Python 3.9 and will be removed in a subsequent version.\n",
      "  population = sample(possible_guesses, sample_size)\n"
     ]
    },
    {
     "name": "stdout",
     "output_type": "stream",
     "text": [
      "⬜⬜⬜⬜⬜ strut\n",
      "🟩⬜⬜⬜⬜ ahold\n",
      "🟩🟩⬜⬜⬜ abaka\n",
      "🟩🟩🟩🟩🟩 abbey\n",
      "Ended with a win in 5 attempts\n"
     ]
    }
   ],
   "source": [
    "target = 'abbey'\n",
    "eligible_words = set(valid_inputs)\n",
    "game_state = []\n",
    "word = wordle_genetic(game_state = game_state, guess_count = 0, pop_size = 150, \n",
    "                                     possible_guesses = eligible_words, max_gen = 100, tour_size = 40,\n",
    "                                    crossover_prob = 0.5,  mutate_prob = 0.03, permute_prob = 0.03, invert_prob = 0.02)\n",
    "check_words(word, target)\n",
    "game_state.append((word, check_words(word, target)))\n",
    "print(str(game_state[-1][1]) + \" \" +game_state[-1][0])\n",
    "i = 1\n",
    "while game_state[-1][1] != \"🟩🟩🟩🟩🟩\" and i <= 5:\n",
    "    word = wordle_genetic(game_state = game_state, guess_count = i, pop_size = 150, \n",
    "                                     possible_guesses = eligible_words, max_gen = 100, tour_size = 40,\n",
    "                                    crossover_prob = 0.5,  mutate_prob = 0.03, permute_prob = 0.03, invert_prob = 0.02)\n",
    "    check_words(word, target)\n",
    "    game_state.append((word, check_words(word, target)))\n",
    "    print(str(game_state[-1][1]) + \" \" + game_state[-1][0])\n",
    "    i += 1\n",
    "if game_state[-1][1] == \"🟩🟩🟩🟩🟩\":\n",
    "    print(\"Ended with a win in \" + str(i) + \" attempts\")\n",
    "else:\n",
    "    print('Ended with a loss')"
   ]
  },
  {
   "cell_type": "code",
   "execution_count": 13,
   "id": "48391a27",
   "metadata": {},
   "outputs": [],
   "source": [
    "def tryout(target):\n",
    "    eligible_words = set(valid_inputs)\n",
    "    game_state = []\n",
    "    word = wordle_genetic(game_state = game_state, guess_count = 0, pop_size = 150, \n",
    "                                         possible_guesses = eligible_words, max_gen = 100, tour_size = 40,\n",
    "                                        crossover_prob = 0.5,  mutate_prob = 0.03, permute_prob = 0.03, invert_prob = 0.02)\n",
    "    check_words(word, target)\n",
    "    game_state.append((word, check_words(word, target)))\n",
    "    print(str(game_state[-1][1]) + \" \" +game_state[-1][0])\n",
    "    i = 1\n",
    "    while game_state[-1][1] != \"🟩🟩🟩🟩🟩\" and i <= 5:\n",
    "        word = wordle_genetic(game_state = game_state, guess_count = i, pop_size = 150, \n",
    "                                         possible_guesses = eligible_words, max_gen = 100, tour_size = 40,\n",
    "                                        crossover_prob = 0.5,  mutate_prob = 0.03, permute_prob = 0.03, invert_prob = 0.02)\n",
    "        check_words(word, target)\n",
    "        game_state.append((word, check_words(word, target)))\n",
    "        print(str(game_state[-1][1]) + \" \" + game_state[-1][0])\n",
    "        i += 1\n",
    "    if game_state[-1][1] == \"🟩🟩🟩🟩🟩\":\n",
    "        print(\"Ended with a win in \" + str(i) + \" attempts\")\n",
    "    else:\n",
    "        print(\"Ended with a loss\")"
   ]
  },
  {
   "cell_type": "code",
   "execution_count": 14,
   "id": "0ff6c9ff",
   "metadata": {},
   "outputs": [
    {
     "name": "stdout",
     "output_type": "stream",
     "text": [
      "⬜⬜🟨⬜⬜ ABOUT\n"
     ]
    },
    {
     "name": "stderr",
     "output_type": "stream",
     "text": [
      "C:\\Users\\LENOVO\\AppData\\Local\\Temp\\ipykernel_9448\\3451594227.py:10: DeprecationWarning: Sampling from a set deprecated\n",
      "since Python 3.9 and will be removed in a subsequent version.\n",
      "  population = sample(possible_guesses, sample_size)\n"
     ]
    },
    {
     "name": "stdout",
     "output_type": "stream",
     "text": [
      "⬜🟨⬜🟩🟨 voile\n",
      "⬜🟨⬜🟨⬜ cover\n",
      "🟨⬜⬜⬜🟩 ejido\n",
      "🟩🟩🟩🟩🟩 hello\n",
      "Ended with a win in 5 attempts\n"
     ]
    }
   ],
   "source": [
    "tryout('hello')"
   ]
  },
  {
   "cell_type": "code",
   "execution_count": 15,
   "id": "080d9f5f",
   "metadata": {},
   "outputs": [
    {
     "name": "stdout",
     "output_type": "stream",
     "text": [
      "⬜⬜⬜⬜⬜ ABOUT\n"
     ]
    },
    {
     "name": "stderr",
     "output_type": "stream",
     "text": [
      "C:\\Users\\LENOVO\\AppData\\Local\\Temp\\ipykernel_9448\\3451594227.py:10: DeprecationWarning: Sampling from a set deprecated\n",
      "since Python 3.9 and will be removed in a subsequent version.\n",
      "  population = sample(possible_guesses, sample_size)\n"
     ]
    },
    {
     "name": "stdout",
     "output_type": "stream",
     "text": [
      "⬜🟩🟩⬜⬜ shend\n",
      "🟩🟩🟩⬜⬜ whelk\n",
      "⬜🟩🟩⬜⬜ chelp\n",
      "🟩⬜🟩⬜⬜ wield\n",
      "🟩🟩🟩⬜⬜ wheft\n",
      "Ended with a loss\n"
     ]
    }
   ],
   "source": [
    "tryout('where')"
   ]
  },
  {
   "cell_type": "markdown",
   "id": "92fbe170",
   "metadata": {},
   "source": [
    "### Modifications using the data\n",
    "#### Choosing the first attempt"
   ]
  },
  {
   "cell_type": "code",
   "execution_count": 16,
   "id": "7df736ad",
   "metadata": {},
   "outputs": [],
   "source": [
    "frecs = np.load('new_word_frequency_per_cluster.npy', allow_pickle = True)\n",
    "frec0 = frecs[0]\n",
    "g0_sorted = sorted(frec0.items(), key=lambda x:x[1], reverse = True)\n",
    "g0_top = g0_sorted[:30]\n",
    "g0_top = np.asarray(g0_top)"
   ]
  },
  {
   "cell_type": "code",
   "execution_count": 17,
   "id": "75cd2591",
   "metadata": {},
   "outputs": [],
   "source": [
    "top_vals = g0_top[:,1].astype(float)\n",
    "top_vals = top_vals/top_vals.sum()\n",
    "top_labels = g0_top[:,0]"
   ]
  },
  {
   "cell_type": "code",
   "execution_count": 18,
   "id": "5773242f",
   "metadata": {},
   "outputs": [],
   "source": [
    "def first_word(labels, vals):\n",
    "    return labels[np.random.choice(len(labels), p = vals)]"
   ]
  },
  {
   "cell_type": "markdown",
   "id": "ecf022e7",
   "metadata": {},
   "source": [
    "#### Guesses based on freq"
   ]
  },
  {
   "cell_type": "code",
   "execution_count": 19,
   "id": "5bcd8586",
   "metadata": {},
   "outputs": [],
   "source": [
    "def wordle_genetic(game_state, guess_count, pop_size, dict_frec, max_gen, tour_size, crossover_prob,\n",
    "                   mutate_prob, permute_prob, invert_prob, top_vals, top_labels):\n",
    "    \n",
    "    if guess_count == 0:\n",
    "        guess = first_word(top_labels, top_vals)\n",
    "        dict_frec.pop(guess)\n",
    "        return guess\n",
    "    \n",
    "    possible_guesses = np.asarray(list(dict_frec.keys()))\n",
    "    frecs = np.asarray(list(dict_frec.values()))\n",
    "\n",
    "    # create population\n",
    "    sample_size = min(pop_size, len(possible_guesses))\n",
    "    population = np.random.choice(a = possible_guesses, size = sample_size , replace = False, p = frecs)\n",
    "    eligible_words = set()\n",
    "    generation = 0\n",
    "\n",
    "    # do genetic iterations\n",
    "    while generation < max_gen:\n",
    "        # selection\n",
    "        fitnesses = [fitness(p, game_state) for p in population]\n",
    "        selected = selection(fitnesses, population, k=tour_size)\n",
    "\n",
    "        # new generation\n",
    "        new_pop = []\n",
    "        for p1, p2 in zip(selected[0::2], selected[1::2]):\n",
    "            for c in crossover(p1, p2, prob=crossover_prob):\n",
    "                c = mutate(c, prob=mutate_prob)\n",
    "                c = permute(c, prob=permute_prob)\n",
    "                c = invert(c, prob=invert_prob)\n",
    "\n",
    "                if (c in eligible_words) or (c not in possible_guesses):\n",
    "                    new_pop.append(np.random.choice(a = possible_guesses, p = frecs))\n",
    "                else:\n",
    "                    new_pop.append(c)\n",
    "\n",
    "        population = new_pop\n",
    "        eligible_words.update(population)\n",
    "\n",
    "        generation += 1\n",
    "\n",
    "    # choose word in eligible_words with maximum\n",
    "    best_word = min(eligible_words, key=lambda x: fitness(x, game_state))\n",
    "    dict_frec.pop(best_word)\n",
    "    return best_word"
   ]
  },
  {
   "cell_type": "code",
   "execution_count": 20,
   "id": "246798b2",
   "metadata": {},
   "outputs": [],
   "source": [
    "def update_dict(dict_frec):\n",
    "    frecs = np.asarray(list(dict_frec.values()))\n",
    "    frecs = frecs/frecs.sum()\n",
    "    return dict(zip(dict_frec.keys(), frecs))"
   ]
  },
  {
   "cell_type": "code",
   "execution_count": 21,
   "id": "b66e456c",
   "metadata": {},
   "outputs": [],
   "source": [
    "def tryout(target, frecs):\n",
    "    #Prep sets\n",
    "    frec0 = frecs[0]\n",
    "    dict_frec = frec0\n",
    "    g0_sorted = sorted(frec0.items(), key=lambda x:x[1], reverse = True)\n",
    "    g0_top = g0_sorted[:30]\n",
    "    g0_top = np.asarray(g0_top)\n",
    "    top_vals = g0_top[:,1].astype(float)\n",
    "    top_vals = top_vals/top_vals.sum()\n",
    "    top_labels = g0_top[:,0]\n",
    "    game_state = []\n",
    "    frecs = np.asarray(list(dict_frec.values()))\n",
    "    frecs = (frecs + abs(min(frecs)))\n",
    "    frecs = frecs/frecs.sum()\n",
    "    dict_frec = dict(zip(dict_frec.keys(), frecs))\n",
    "    word = wordle_genetic(game_state = game_state, guess_count = 0, pop_size = 150, \n",
    "                                         dict_frec = dict_frec, max_gen = 100, tour_size = 40,\n",
    "                                        crossover_prob = 0.5,  mutate_prob = 0.03, permute_prob = 0.03, invert_prob = 0.02,\n",
    "                                         top_vals = top_vals, top_labels = top_labels)\n",
    "    check_words(word, target)\n",
    "    game_state.append((word, check_words(word, target)))\n",
    "    print(str(game_state[-1][1]) + \" \" +game_state[-1][0])\n",
    "    i = 1\n",
    "    while game_state[-1][1] != \"🟩🟩🟩🟩🟩\" and i <= 5:\n",
    "        dict_frec = update_dict(dict_frec)\n",
    "        word = wordle_genetic(game_state = game_state, guess_count = i, pop_size = 150, \n",
    "                                         dict_frec = dict_frec, max_gen = 100, tour_size = 40,\n",
    "                                        crossover_prob = 0.5,  mutate_prob = 0.03, permute_prob = 0.03, invert_prob = 0.02,\n",
    "                                         top_vals = top_vals, top_labels = top_labels)\n",
    "        check_words(word, target)\n",
    "        game_state.append((word, check_words(word, target)))\n",
    "        print(str(game_state[-1][1]) + \" \" + game_state[-1][0])\n",
    "        i += 1\n",
    "    if game_state[-1][1] == \"🟩🟩🟩🟩🟩\":\n",
    "        print(\"Ended with a win in \" + str(i) + \" attempts\")\n",
    "    else:\n",
    "        print(\"Ended with a loss\")"
   ]
  },
  {
   "cell_type": "code",
   "execution_count": 22,
   "id": "bb4de736",
   "metadata": {},
   "outputs": [
    {
     "name": "stdout",
     "output_type": "stream",
     "text": [
      "⬜🟨⬜⬜⬜ going\n",
      "⬜⬜⬜⬜⬜ uprun\n",
      "⬜🟨🟨⬜⬜ dhows\n",
      "⬜⬜⬜⬜⬜ asdic\n",
      "🟩🟩🟩🟩🟩 hello\n",
      "Ended with a win in 5 attempts\n"
     ]
    }
   ],
   "source": [
    "tryout('hello', frecs)"
   ]
  },
  {
   "cell_type": "code",
   "execution_count": 23,
   "id": "3f659fbb",
   "metadata": {},
   "outputs": [
    {
     "name": "stdout",
     "output_type": "stream",
     "text": [
      "⬜⬜⬜⬜⬜ about\n",
      "⬜🟩🟩⬜⬜ shend\n",
      "🟩🟩🟩⬜⬜ whelk\n",
      "⬜🟩🟩⬜⬜ chelp\n",
      "🟩⬜🟩⬜⬜ wield\n",
      "🟩🟩🟩🟩🟩 where\n",
      "Ended with a win in 6 attempts\n"
     ]
    }
   ],
   "source": [
    "tryout('where', frecs)"
   ]
  },
  {
   "cell_type": "code",
   "execution_count": 24,
   "id": "961d66ac",
   "metadata": {},
   "outputs": [
    {
     "name": "stdout",
     "output_type": "stream",
     "text": [
      "⬜⬜⬜⬜⬜ since\n",
      "⬜🟨⬜⬜⬜ hamba\n",
      "⬜⬜🟨⬜⬜ guard\n",
      "⬜⬜🟨🟨🟨 dholl\n",
      "🟨🟩🟩🟨⬜ ollav\n",
      "🟩🟩🟩🟩⬜ alloy\n",
      "Ended with a loss\n"
     ]
    }
   ],
   "source": [
    "tryout('allow', frecs)"
   ]
  },
  {
   "cell_type": "code",
   "execution_count": 25,
   "id": "90df355e",
   "metadata": {},
   "outputs": [
    {
     "name": "stdout",
     "output_type": "stream",
     "text": [
      "🟨⬜⬜🟩🟩 their\n",
      "🟩⬜⬜🟨⬜ shero\n",
      "🟨🟨⬜⬜⬜ treed\n",
      "⬜⬜🟨⬜🟩 dhikr\n",
      "🟩🟩🟩🟩🟩 stair\n",
      "Ended with a win in 5 attempts\n"
     ]
    }
   ],
   "source": [
    "tryout('stair', frecs)"
   ]
  },
  {
   "cell_type": "markdown",
   "id": "1e6a8281",
   "metadata": {},
   "source": [
    "#### Improving mutation\n",
    "We will create a dictionary with all the words that can transformed into another allowed one by only changing one letter"
   ]
  },
  {
   "cell_type": "code",
   "execution_count": 47,
   "id": "b96133fc",
   "metadata": {},
   "outputs": [],
   "source": [
    "valid_inputs = []\n",
    "with open(\"valid-wordle-words.txt\") as f:\n",
    "    valid_inputs = f.read().splitlines()\n",
    "comparer = set(valid_inputs)\n",
    "valid_mutations = {}\n",
    "alphabet = list(map(chr, range(97, 123)))\n",
    "for word in valid_inputs:\n",
    "    valid_mutations[word] = set()\n",
    "    for i in range(len(word)):\n",
    "        for letter in alphabet:\n",
    "            if (letter != word[i]) and ((word[:i] + letter + word[i+1:]) in comparer):\n",
    "                valid_mutations[word].add(word[:i] + letter + word[i+1:])"
   ]
  },
  {
   "cell_type": "code",
   "execution_count": 55,
   "id": "5e418a55",
   "metadata": {},
   "outputs": [],
   "source": [
    "def mutate2(word, dict_frec, game_state, prob=0.03):\n",
    "    if random() < prob and len(valid_mutations[word]) > 0:\n",
    "        fit = 0\n",
    "        res = word\n",
    "        for mut in valid_mutations[word]:\n",
    "            if mut in dict_frec.keys() and fitness(mut,game_state) > fit:\n",
    "                fit = fitness(mut,game_state)\n",
    "                res = mut\n",
    "        return res\n",
    "    return word"
   ]
  },
  {
   "cell_type": "markdown",
   "id": "7971513f",
   "metadata": {},
   "source": [
    "#### Improving permutation\n",
    "We will now create a dictionary with all the words that can be transformd into other valid words by swapping two non-equal letters."
   ]
  },
  {
   "cell_type": "code",
   "execution_count": 56,
   "id": "8bd3ed8e",
   "metadata": {},
   "outputs": [],
   "source": [
    "valid_inputs = []\n",
    "with open(\"valid-wordle-words.txt\") as f:\n",
    "    valid_inputs = f.read().splitlines()\n",
    "comparer = set(valid_inputs)\n",
    "valid_permutations = {}\n",
    "changes = [[i,j] for i in range(5) for j in range(i+1,5)]\n",
    "for word in valid_inputs:\n",
    "    valid_permutations[word] = set()\n",
    "    for i,j in changes:\n",
    "        swap = list(word)\n",
    "        swap[i], swap[j] = swap[j], swap[i]\n",
    "        swap = ''.join(swap)\n",
    "        if swap != word and swap in comparer:\n",
    "            valid_permutations[word].add(swap)"
   ]
  },
  {
   "cell_type": "code",
   "execution_count": 57,
   "id": "f0a7eb31",
   "metadata": {},
   "outputs": [],
   "source": [
    "def permute2(word, dict_frec, game_state, prob=0.03):\n",
    "    if random() < prob and len(valid_permutations[word]) > 0:\n",
    "        fit = 0\n",
    "        res = word\n",
    "        for mut in valid_permutations[word]:\n",
    "            if mut in dict_frec and fitness(mut,game_state) > fit:\n",
    "                fit =fitness(mut,game_state)\n",
    "                res = mut\n",
    "        return res\n",
    "    return word"
   ]
  },
  {
   "cell_type": "markdown",
   "id": "5a328899",
   "metadata": {},
   "source": [
    "#### Improving inversion\n",
    "We will create a dictionary of all possible inversions of a word."
   ]
  },
  {
   "cell_type": "code",
   "execution_count": 58,
   "id": "31fc40e8",
   "metadata": {},
   "outputs": [],
   "source": [
    "valid_inputs = []\n",
    "with open(\"valid-wordle-words.txt\") as f:\n",
    "    valid_inputs = f.read().splitlines()\n",
    "comparer = set(valid_inputs)\n",
    "valid_inversions = {}\n",
    "inversions = [[i,j]for i in range(4) for j in range(i+1,5)]\n",
    "for word in valid_inputs:\n",
    "    valid_inversions[word] = set()\n",
    "    for i,j in inversions:\n",
    "        inv = list(word)\n",
    "        inv[i:j+1] = reversed(word[i:j+1])\n",
    "        inv = ''.join(inv)\n",
    "        if inv != word and inv in comparer:\n",
    "            valid_inversions[word].add(inv)"
   ]
  },
  {
   "cell_type": "code",
   "execution_count": 70,
   "id": "f6546f87",
   "metadata": {},
   "outputs": [],
   "source": [
    "def invert2(word, dict_frec, game_state, prob=0.02):\n",
    "    if random() < prob and len(valid_inversions[word]) > 0:\n",
    "        fit = 0\n",
    "        res = word\n",
    "        for inv in valid_inversions[word]:\n",
    "            if inv in dict_frec and fitness(inv,game_state) > fit:\n",
    "                fit = fitness(inv,game_state)\n",
    "                res = inv\n",
    "        return res\n",
    "    return word"
   ]
  },
  {
   "cell_type": "code",
   "execution_count": 138,
   "id": "9d4ea970",
   "metadata": {},
   "outputs": [],
   "source": [
    "def wordle_genetic(game_state, guess_count, pop_size, dict_frec, max_gen, tour_size, crossover_prob,\n",
    "                   mutate_prob, permute_prob, invert_prob, top_vals, top_labels):\n",
    "    \n",
    "    if guess_count == 0:\n",
    "        guess = first_word(top_labels, top_vals)\n",
    "        dict_frec.pop(guess)\n",
    "        return guess\n",
    "    \n",
    "    possible_guesses = np.asarray(list(dict_frec.keys()))\n",
    "    frecs = np.asarray(list(dict_frec.values()))\n",
    "\n",
    "    # create population\n",
    "    sample_size = min(pop_size, len(possible_guesses))\n",
    "    population = np.random.choice(a = possible_guesses, size = sample_size , replace = False)\n",
    "    eligible_words = set()\n",
    "    generation = 0\n",
    "\n",
    "    # do genetic iterations\n",
    "    while generation < max_gen:\n",
    "        # selection\n",
    "        fitnesses = [fitness(p, game_state) for p in population]\n",
    "        selected = selection(fitnesses, population, k=tour_size)\n",
    "\n",
    "        # new generation\n",
    "        new_pop = []\n",
    "        for p1, p2 in zip(selected[0::2], selected[1::2]):\n",
    "            for c in crossover(p1, p2, prob=crossover_prob):\n",
    "                if (c in eligible_words) or (c not in possible_guesses):\n",
    "                    new_pop.append(np.random.choice(a = possible_guesses))\n",
    "                else:\n",
    "                    c = mutate2(c, dict_frec, game_state, prob=mutate_prob)\n",
    "                    c = permute2(c, dict_frec, game_state, prob=permute_prob)\n",
    "                    c = invert2(c, dict_frec, game_state, prob=invert_prob)\n",
    "                    new_pop.append(c)\n",
    "\n",
    "        population = new_pop\n",
    "        eligible_words.update(population)\n",
    "\n",
    "        generation += 1\n",
    "\n",
    "    # choose word in eligible_words with maximum\n",
    "    best_word = min(eligible_words, key=lambda x: fitness(x, game_state))\n",
    "    dict_frec.pop(best_word)\n",
    "    return best_word"
   ]
  },
  {
   "cell_type": "code",
   "execution_count": 139,
   "id": "f59e4f5d",
   "metadata": {},
   "outputs": [],
   "source": [
    "def tryout(target, frecs, crossover_prob = 0.5,  mutate_prob = 0.03, permute_prob = 0.03, invert_prob = 0.02):\n",
    "    #Prep sets\n",
    "    frec0 = frecs[0]\n",
    "    dict_frec = frec0\n",
    "    g0_sorted = sorted(frec0.items(), key=lambda x:x[1], reverse = True)\n",
    "    g0_top = g0_sorted[:30]\n",
    "    g0_top = np.asarray(g0_top)\n",
    "    top_vals = g0_top[:,1].astype(float)\n",
    "    top_vals = top_vals/top_vals.sum()\n",
    "    top_labels = g0_top[:,0]\n",
    "    game_state = []\n",
    "    frecs = np.asarray(list(dict_frec.values()))\n",
    "    frecs = (frecs + abs(min(frecs)))\n",
    "    frecs = frecs/frecs.sum()\n",
    "    dict_frec = dict(zip(dict_frec.keys(), frecs))\n",
    "    word = wordle_genetic(game_state = game_state, guess_count = 0, pop_size = 150, \n",
    "                                         dict_frec = dict_frec, max_gen = 100, tour_size = 40,\n",
    "                                        crossover_prob = crossover_prob,  mutate_prob = mutate_prob, \n",
    "                                        permute_prob = permute_prob, invert_prob = invert_prob,\n",
    "                                         top_vals = top_vals, top_labels = top_labels)\n",
    "    check_words(word, target)\n",
    "    game_state.append((word, check_words(word, target)))\n",
    "    print(str(game_state[-1][1]) + \" \" +game_state[-1][0])\n",
    "    i = 1\n",
    "    while game_state[-1][1] != \"🟩🟩🟩🟩🟩\" and i <= 5:\n",
    "        dict_frec = update_dict(dict_frec)\n",
    "        word = wordle_genetic(game_state = game_state, guess_count = i, pop_size = 150, \n",
    "                                         dict_frec = dict_frec, max_gen = 100, tour_size = 40,\n",
    "                                        crossover_prob = 0.5,  mutate_prob = 0.03, permute_prob = 0.03, invert_prob = 0.02,\n",
    "                                         top_vals = top_vals, top_labels = top_labels)\n",
    "        check_words(word, target)\n",
    "        game_state.append((word, check_words(word, target)))\n",
    "        print(str(game_state[-1][1]) + \" \" + game_state[-1][0])\n",
    "        i += 1\n",
    "    if game_state[-1][1] == \"🟩🟩🟩🟩🟩\":\n",
    "        print(\"Ended with a win in \" + str(i) + \" attempts\")\n",
    "    else:\n",
    "        print(\"Ended with a loss\")"
   ]
  },
  {
   "cell_type": "code",
   "execution_count": 150,
   "id": "65eab162",
   "metadata": {
    "scrolled": true
   },
   "outputs": [
    {
     "name": "stdout",
     "output_type": "stream",
     "text": [
      "⬜🟨⬜⬜⬜ think\n",
      "🟩⬜🟩⬜⬜ hamba\n",
      "🟩⬜🟨🟩⬜ haros\n",
      "🟩⬜⬜⬜🟩 haver\n",
      "🟩🟩🟩🟩🟩 humor\n",
      "Ended with a win in 5 attempts\n"
     ]
    }
   ],
   "source": [
    "tryout('humor', frecs, 0.5, 0.2,0.2,0.02)"
   ]
  },
  {
   "cell_type": "code",
   "execution_count": 141,
   "id": "09f84896",
   "metadata": {},
   "outputs": [
    {
     "name": "stdout",
     "output_type": "stream",
     "text": [
      "🟨⬜🟩🟩⬜ think\n",
      "⬜⬜🟩⬜⬜ hoick\n",
      "⬜🟩🟩🟩🟩 saint\n",
      "⬜⬜🟩🟩🟩 stint\n",
      "🟩🟩🟩🟩🟩 paint\n",
      "Ended with a win in 5 attempts\n"
     ]
    }
   ],
   "source": [
    "tryout('paint', frecs, 0.5, 0.2,0.2,0.02)"
   ]
  },
  {
   "cell_type": "code",
   "execution_count": 152,
   "id": "5d5f9a24",
   "metadata": {
    "scrolled": true
   },
   "outputs": [
    {
     "name": "stdout",
     "output_type": "stream",
     "text": [
      "⬜⬜⬜⬜⬜ would\n",
      "⬜🟨⬜⬜⬜ hamba\n",
      "⬜🟨⬜🟨⬜ mists\n",
      "⬜⬜🟩⬜⬜ sease\n",
      "🟩🟩🟩⬜🟨 tragi\n",
      "🟩🟩🟩🟩⬜ traik\n",
      "Ended with a loss\n"
     ]
    }
   ],
   "source": [
    "tryout('train', frecs, 0.5, 0.2,0.2,0.02)"
   ]
  },
  {
   "cell_type": "code",
   "execution_count": 156,
   "id": "8a8f192f",
   "metadata": {},
   "outputs": [
    {
     "name": "stdout",
     "output_type": "stream",
     "text": [
      "⬜⬜⬜🟨⬜ where\n",
      "⬜🟨⬜⬜⬜ hamba\n",
      "⬜⬜⬜⬜⬜ bezil\n",
      "🟨⬜⬜⬜⬜ sukhs\n",
      "⬜🟨🟨⬜⬜ prank\n",
      "🟩🟩🟩🟩🟩 oscar\n",
      "Ended with a win in 6 attempts\n"
     ]
    }
   ],
   "source": [
    "tryout('oscar', frecs, 1, 0.2,0.2,0.02)"
   ]
  },
  {
   "cell_type": "markdown",
   "id": "6db86f92",
   "metadata": {},
   "source": [
    "#### Improving crossover"
   ]
  },
  {
   "cell_type": "markdown",
   "id": "a71f38b7",
   "metadata": {},
   "source": [
    "We will create a set of all possible words made up from five letters that are allowed in wordle."
   ]
  },
  {
   "cell_type": "code",
   "execution_count": 168,
   "id": "2b99daed",
   "metadata": {},
   "outputs": [],
   "source": [
    "alphabet = np.asarray(list(map(chr, range(97, 123))))"
   ]
  },
  {
   "cell_type": "code",
   "execution_count": 233,
   "id": "aeb71cc7",
   "metadata": {},
   "outputs": [],
   "source": [
    "def get_keys(alphabet, length):\n",
    "    if len(alphabet) == 1:\n",
    "        return np.asarray([alphabet[0]*length])\n",
    "    elif length == 1:\n",
    "        return alphabet\n",
    "    else:\n",
    "        res = np.asarray([])\n",
    "        for i in range(len(alphabet)):\n",
    "            aux = np.asarray(get_keys(alphabet[i:], length - 1))\n",
    "            res = np.concatenate((res,np.char.add(np.asarray([alphabet[i]]*len(aux)), \n",
    "                                         aux)), axis = 0)\n",
    "        return res\n",
    "def get_words(key):\n",
    "    res = set()\n",
    "    p = permutations(key)\n",
    "    for word in list(p):\n",
    "        aux = ''.join(word)\n",
    "        if aux in comparer:\n",
    "            res.add(aux)\n",
    "    return res"
   ]
  },
  {
   "cell_type": "code",
   "execution_count": 234,
   "id": "02cc500b",
   "metadata": {
    "scrolled": true
   },
   "outputs": [],
   "source": [
    "keys = get_keys(alphabet, 5)"
   ]
  },
  {
   "cell_type": "code",
   "execution_count": 238,
   "id": "8122e595",
   "metadata": {},
   "outputs": [],
   "source": [
    "words_from_letters = {key : get_words(key) for key in keys}"
   ]
  },
  {
   "cell_type": "code",
   "execution_count": 249,
   "id": "539fd3b3",
   "metadata": {},
   "outputs": [],
   "source": [
    "def crossover2(parent1, parent2, dict_prob, game_state, prob=0.5):\n",
    "    child1, child2 = parent1, parent2\n",
    "    if random() < prob:\n",
    "        split = randrange(1, len(parent1)-1)\n",
    "        child1 = parent1[:split] + parent2[split:]\n",
    "        child2 = parent2[:split] + parent1[split:]\n",
    "        if child1 not in dict_prob:\n",
    "            key1 = ''.join(sorted(child1))\n",
    "            if len(words_from_letters[key1]) > 0:\n",
    "                fit = 0\n",
    "                child1 = np.random.choice(a = np.asarray(list(dict_prob.keys())))\n",
    "                for cand1 in words_from_letters[key1]:\n",
    "                    if cand1 in dict_prob and fitness(cand1, game_state) > fit:\n",
    "                        fit = fitness(cand1, game_state)\n",
    "                        child1 = cand1\n",
    "        if child2 not in dict_prob:\n",
    "            key1 = ''.join(sorted(child2))\n",
    "            if len(words_from_letters[key1]) > 0:\n",
    "                fit = 0\n",
    "                child2 = np.random.choice(a = np.asarray(list(dict_prob.keys())))\n",
    "                for cand1 in words_from_letters[key1]:\n",
    "                    if cand1 in dict_prob and fitness(cand1, game_state) > fit:\n",
    "                        fit = fitness(cand1, game_state)\n",
    "                        child2 = cand1\n",
    "    return [child1, child2]"
   ]
  },
  {
   "cell_type": "code",
   "execution_count": 250,
   "id": "8739b3c2",
   "metadata": {},
   "outputs": [],
   "source": [
    "def wordle_genetic(game_state, guess_count, pop_size, dict_frec, max_gen, tour_size, crossover_prob,\n",
    "                   mutate_prob, permute_prob, invert_prob, top_vals, top_labels):\n",
    "    \n",
    "    if guess_count == 0:\n",
    "        guess = first_word(top_labels, top_vals)\n",
    "        dict_frec.pop(guess)\n",
    "        return guess\n",
    "    \n",
    "    possible_guesses = np.asarray(list(dict_frec.keys()))\n",
    "    frecs = np.asarray(list(dict_frec.values()))\n",
    "\n",
    "    # create population\n",
    "    sample_size = min(pop_size, len(possible_guesses))\n",
    "    population = np.random.choice(a = possible_guesses, size = sample_size , replace = False)\n",
    "    eligible_words = set()\n",
    "    generation = 0\n",
    "\n",
    "    # do genetic iterations\n",
    "    while generation < max_gen:\n",
    "        # selection\n",
    "        fitnesses = [fitness(p, game_state) for p in population]\n",
    "        selected = selection(fitnesses, population, k=tour_size)\n",
    "\n",
    "        # new generation\n",
    "        new_pop = []\n",
    "        for p1, p2 in zip(selected[0::2], selected[1::2]):\n",
    "            for c in crossover2(p1, p2, dict_frec, game_state , prob=crossover_prob):\n",
    "                if (c in eligible_words) or (c not in possible_guesses):\n",
    "                    new_pop.append(np.random.choice(a = possible_guesses))\n",
    "                else:\n",
    "                    c = mutate2(c, dict_frec, game_state, prob=mutate_prob)\n",
    "                    c = permute2(c, dict_frec, game_state, prob=permute_prob)\n",
    "                    c = invert2(c, dict_frec, game_state, prob=invert_prob)\n",
    "                    new_pop.append(c)\n",
    "\n",
    "        population = new_pop\n",
    "        eligible_words.update(population)\n",
    "\n",
    "        generation += 1\n",
    "\n",
    "    # choose word in eligible_words with maximum\n",
    "    best_word = min(eligible_words, key=lambda x: fitness(x, game_state))\n",
    "    dict_frec.pop(best_word)\n",
    "    return best_word"
   ]
  },
  {
   "cell_type": "code",
   "execution_count": 254,
   "id": "68b655a4",
   "metadata": {},
   "outputs": [
    {
     "name": "stdout",
     "output_type": "stream",
     "text": [
      "⬜⬜🟨⬜⬜ three\n",
      "⬜⬜🟨🟨⬜ guard\n",
      "⬜🟨🟨⬜⬜ proul\n",
      "🟨🟨⬜⬜⬜ sault\n",
      "🟩🟩🟩🟩🟩 oscar\n",
      "Ended with a win in 5 attempts\n"
     ]
    }
   ],
   "source": [
    "tryout('oscar', frecs, 0.5, 0.05,0.05,0.02)"
   ]
  },
  {
   "cell_type": "code",
   "execution_count": 256,
   "id": "6f37e75b",
   "metadata": {},
   "outputs": [
    {
     "name": "stdout",
     "output_type": "stream",
     "text": [
      "⬜⬜🟨🟨⬜ where\n",
      "🟨🟨⬜⬜⬜ resus\n",
      "🟨⬜⬜🟩⬜ ashet\n",
      "🟩🟩⬜🟩🟩 paper\n",
      "🟩🟩⬜🟩🟩 pacer\n",
      "🟩🟩🟩🟩🟩 parer\n",
      "Ended with a win in 6 attempts\n"
     ]
    }
   ],
   "source": [
    "tryout('parer', frecs, 0.5, 0.05,0.05,0.02)"
   ]
  },
  {
   "cell_type": "code",
   "execution_count": 258,
   "id": "05c1786a",
   "metadata": {},
   "outputs": [
    {
     "name": "stdout",
     "output_type": "stream",
     "text": [
      "🟩⬜⬜⬜⬜ those\n",
      "⬜🟩⬜⬜⬜ creme\n",
      "⬜🟨⬜⬜⬜ ligge\n",
      "⬜🟩⬜⬜⬜ proul\n",
      "⬜🟩🟨⬜⬜ frisk\n",
      "🟩🟩🟩🟩⬜ trait\n",
      "Ended with a loss\n"
     ]
    }
   ],
   "source": [
    "tryout('train', frecs, 0.5, 0.05,0.05,0.02)"
   ]
  },
  {
   "cell_type": "code",
   "execution_count": 261,
   "id": "f4852f60",
   "metadata": {},
   "outputs": [
    {
     "name": "stdout",
     "output_type": "stream",
     "text": [
      "🟨⬜⬜🟨🟨 again\n",
      "⬜🟩🟨⬜⬜ fanal\n",
      "🟨🟩🟩🟩⬜ tains\n",
      "🟩🟩🟩🟩🟩 paint\n",
      "Ended with a win in 4 attempts\n"
     ]
    }
   ],
   "source": [
    "tryout('paint', frecs, 0.5, 0.05,0.05,0.02)"
   ]
  },
  {
   "cell_type": "markdown",
   "id": "1db84826",
   "metadata": {},
   "source": [
    "### Changing the selection\n",
    "We will try a roulette selection approach"
   ]
  },
  {
   "cell_type": "code",
   "execution_count": 285,
   "id": "6180536c",
   "metadata": {},
   "outputs": [],
   "source": [
    "def selection2(fitnesses, population, k=20, keep_size=True):\n",
    "    props = np.asarray(fitnesses)/np.asarray(fitnesses).sum()\n",
    "    return np.random.choice(a=population, p = props, replace = True, size = len(fitnesses))"
   ]
  },
  {
   "cell_type": "code",
   "execution_count": 286,
   "id": "94f2b495",
   "metadata": {},
   "outputs": [],
   "source": [
    "def wordle_genetic(game_state, guess_count, pop_size, dict_frec, max_gen, tour_size, crossover_prob,\n",
    "                   mutate_prob, permute_prob, invert_prob, top_vals, top_labels):\n",
    "    \n",
    "    if guess_count == 0:\n",
    "        guess = first_word(top_labels, top_vals)\n",
    "        dict_frec.pop(guess)\n",
    "        return guess\n",
    "    \n",
    "    possible_guesses = np.asarray(list(dict_frec.keys()))\n",
    "    frecs = np.asarray(list(dict_frec.values()))\n",
    "\n",
    "    # create population\n",
    "    sample_size = min(pop_size, len(possible_guesses))\n",
    "    population = np.random.choice(a = possible_guesses, size = sample_size , replace = False)\n",
    "    eligible_words = set()\n",
    "    generation = 0\n",
    "\n",
    "    # do genetic iterations\n",
    "    while generation < max_gen:\n",
    "        # selection\n",
    "        fitnesses = [fitness(p, game_state) for p in population]\n",
    "        selected = selection2(fitnesses, population, k=tour_size)\n",
    "\n",
    "        # new generation\n",
    "        new_pop = []\n",
    "        for p1, p2 in zip(selected[0::2], selected[1::2]):\n",
    "            for c in crossover2(p1, p2, dict_frec, game_state , prob=crossover_prob):\n",
    "                if (c in eligible_words) or (c not in possible_guesses):\n",
    "                    new_pop.append(np.random.choice(a = possible_guesses))\n",
    "                else:\n",
    "                    c = mutate2(c, dict_frec, game_state, prob=mutate_prob)\n",
    "                    c = permute2(c, dict_frec, game_state, prob=permute_prob)\n",
    "                    c = invert2(c, dict_frec, game_state, prob=invert_prob)\n",
    "                    new_pop.append(c)\n",
    "\n",
    "        population = new_pop\n",
    "        eligible_words.update(population)\n",
    "\n",
    "        generation += 1\n",
    "\n",
    "    # choose word in eligible_words with maximum\n",
    "    best_word = min(eligible_words, key=lambda x: fitness(x, game_state))\n",
    "    dict_frec.pop(best_word)\n",
    "    return best_word"
   ]
  },
  {
   "cell_type": "code",
   "execution_count": null,
   "id": "7fbd85bc",
   "metadata": {},
   "outputs": [
    {
     "name": "stdout",
     "output_type": "stream",
     "text": [
      "⬜⬜⬜⬜⬜ could\n",
      "🟩🟩🟩⬜⬜ tramp\n",
      "🟩⬜🟩⬜⬜ teams\n",
      "🟩🟩🟩🟩⬜ traik\n",
      "🟩🟩🟩🟨⬜ trank\n"
     ]
    }
   ],
   "source": [
    "tryout('train', frecs, 0.5, 0.05,0.05,0.02)"
   ]
  }
 ],
 "metadata": {
  "kernelspec": {
   "display_name": "Python 3 (ipykernel)",
   "language": "python",
   "name": "python3"
  },
  "language_info": {
   "codemirror_mode": {
    "name": "ipython",
    "version": 3
   },
   "file_extension": ".py",
   "mimetype": "text/x-python",
   "name": "python",
   "nbconvert_exporter": "python",
   "pygments_lexer": "ipython3",
   "version": "3.10.6"
  }
 },
 "nbformat": 4,
 "nbformat_minor": 5
}
