{
 "cells": [
  {
   "cell_type": "code",
   "execution_count": 207,
   "id": "f63e51a7",
   "metadata": {},
   "outputs": [],
   "source": [
    "from random import choice, sample, randrange, random, shuffle\n",
    "from string import ascii_lowercase\n",
    "import numpy as np\n",
    "from itertools import permutations\n",
    "import multiprocessing as mult\n",
    "import eval_models as evalmod\n",
    "import seaborn as sns\n",
    "import matplotlib.pyplot as plt"
   ]
  },
  {
   "cell_type": "markdown",
   "id": "e525085f",
   "metadata": {},
   "source": [
    "### Setting the precalculated values"
   ]
  },
  {
   "cell_type": "code",
   "execution_count": 2,
   "id": "7fb7ef59",
   "metadata": {},
   "outputs": [],
   "source": [
    "valid_inputs = []\n",
    "with open(\"valid-wordle-words.txt\") as f:\n",
    "    valid_inputs = f.read().splitlines()\n",
    "comparer = set(valid_inputs)\n",
    "valid_mutations = {}\n",
    "alphabet = list(map(chr, range(97, 123)))\n",
    "for word in valid_inputs:\n",
    "    valid_mutations[word] = set()\n",
    "    for i in range(len(word)):\n",
    "        for letter in alphabet:\n",
    "            if (letter != word[i]) and ((word[:i] + letter + word[i+1:]) in comparer):\n",
    "                valid_mutations[word].add(word[:i] + letter + word[i+1:])\n",
    "\n",
    "valid_inputs = []\n",
    "with open(\"valid-wordle-words.txt\") as f:\n",
    "    valid_inputs = f.read().splitlines()\n",
    "comparer = set(valid_inputs)\n",
    "valid_permutations = {}\n",
    "changes = [[i,j] for i in range(5) for j in range(i+1,5)]\n",
    "for word in valid_inputs:\n",
    "    valid_permutations[word] = set()\n",
    "    for i,j in changes:\n",
    "        swap = list(word)\n",
    "        swap[i], swap[j] = swap[j], swap[i]\n",
    "        swap = ''.join(swap)\n",
    "        if swap != word and swap in comparer:\n",
    "            valid_permutations[word].add(swap)               \n",
    "\n",
    "valid_inputs = []\n",
    "with open(\"valid-wordle-words.txt\") as f:\n",
    "    valid_inputs = f.read().splitlines()\n",
    "comparer = set(valid_inputs)\n",
    "valid_inversions = {}\n",
    "inversions = [[i,j]for i in range(4) for j in range(i+1,5)]\n",
    "for word in valid_inputs:\n",
    "    valid_inversions[word] = set()\n",
    "    for i,j in inversions:\n",
    "        inv = list(word)\n",
    "        inv[i:j+1] = reversed(word[i:j+1])\n",
    "        inv = ''.join(inv)\n",
    "        if inv != word and inv in comparer:\n",
    "            valid_inversions[word].add(inv)\n",
    "alphabet = np.asarray(list(map(chr, range(97, 123))))\n",
    "def get_keys(alphabet, length):\n",
    "    if len(alphabet) == 1:\n",
    "        return np.asarray([alphabet[0]*length])\n",
    "    elif length == 1:\n",
    "        return alphabet\n",
    "    else:\n",
    "        res = np.asarray([])\n",
    "        for i in range(len(alphabet)):\n",
    "            aux = np.asarray(get_keys(alphabet[i:], length - 1))\n",
    "            res = np.concatenate((res,np.char.add(np.asarray([alphabet[i]]*len(aux)), \n",
    "                                         aux)), axis = 0)\n",
    "        return res\n",
    "def get_words(key):\n",
    "    res = set()\n",
    "    p = permutations(key)\n",
    "    for word in list(p):\n",
    "        aux = ''.join(word)\n",
    "        if aux in comparer:\n",
    "            res.add(aux)\n",
    "    return res\n",
    "keys = get_keys(alphabet, 5)\n",
    "words_from_letters = {key : get_words(key) for key in keys}"
   ]
  },
  {
   "cell_type": "markdown",
   "id": "1f2f635d",
   "metadata": {},
   "source": [
    "### Loading the frequency data"
   ]
  },
  {
   "cell_type": "code",
   "execution_count": 3,
   "id": "90306a80",
   "metadata": {},
   "outputs": [],
   "source": [
    "frecs_new = np.load('adjusted_word_frequency_per_cluster.npy', allow_pickle = True)\n",
    "frec0_new = frecs_new[0]\n",
    "frec1_new = frecs_new[1]\n",
    "frec2_new = frecs_new[2]\n",
    "\n",
    "frecs = np.load('new_word_frequency_per_cluster.npy', allow_pickle = True)\n",
    "frec0 = frecs[0]\n",
    "g0_sorted = sorted(frec0.items(), key=lambda x:x[1], reverse = True)\n",
    "g0_top = g0_sorted[:30]\n",
    "g0_top = np.asarray(g0_top)\n",
    "top_vals = g0_top[:,1].astype(float)\n",
    "top_vals = top_vals/top_vals.sum()\n",
    "top_labels = g0_top[:,0]"
   ]
  },
  {
   "cell_type": "markdown",
   "id": "51250bf6",
   "metadata": {},
   "source": [
    "### Loading the daily words"
   ]
  },
  {
   "cell_type": "code",
   "execution_count": 4,
   "id": "eb1e3ed2",
   "metadata": {},
   "outputs": [],
   "source": [
    "#dictionary of games and target words\n",
    "game_dict = {}\n",
    "with open(\"wordle-words-by-day2.txt\") as f:\n",
    "    for line in f:\n",
    "        line = line.strip()\n",
    "        game_dict.update({int(line[0:3]) : line[4::]})\n",
    "daily_words = list(game_dict.values())"
   ]
  },
  {
   "cell_type": "markdown",
   "id": "bfe54680",
   "metadata": {},
   "source": [
    "### Code for the model"
   ]
  },
  {
   "cell_type": "code",
   "execution_count": 5,
   "id": "93341502",
   "metadata": {},
   "outputs": [],
   "source": [
    "from random import choice, sample, randrange, random, shuffle\n",
    "from string import ascii_lowercase\n",
    "import numpy as np\n",
    "from itertools import permutations\n",
    "import multiprocessing as mult\n",
    "\n",
    "def find(s, ch):\n",
    "    return [i for i, ltr in enumerate(s) if ltr == ch]\n",
    "\n",
    "def check_words(input_word ,target):\n",
    "    input_word = input_word.lower()\n",
    "    target = target.lower()\n",
    "    sequence = ['⬜']*5\n",
    "    selected = [False]*5\n",
    "    for i in range(0,5):\n",
    "        if input_word[i] == target[i]:\n",
    "            sequence[i] = '🟩'\n",
    "            selected[i] = True\n",
    "    for i in range(0,5):\n",
    "        if input_word[i] != target[i]:\n",
    "            indexes = find(target, input_word[i])\n",
    "            for index in indexes:\n",
    "                if not selected[index]:\n",
    "                    selected[index] = True\n",
    "                    sequence[i] = '🟨'\n",
    "                    break\n",
    "    aux = \"\"\n",
    "    return aux.join(sequence)\n",
    "\n",
    "def fitness(word, game_state):\n",
    "    sum = 0\n",
    "    for guess, result in game_state:\n",
    "        match = result.count('🟩')\n",
    "        misplaced =  result.count('🟨')\n",
    "        result = check_words(guess, word)\n",
    "        pos_match = result.count('🟩')\n",
    "        pos_misplaced = result.count('🟨')\n",
    "        sum += abs(pos_match - match) + abs(pos_misplaced - misplaced) + abs(match + misplaced - pos_match - pos_misplaced)\n",
    "    return sum\n",
    "\n",
    "\n",
    "def first_word(labels, vals):\n",
    "    return labels[np.random.choice(len(labels), p = vals)]\n",
    "\n",
    "def update_dict(dict_frec):\n",
    "    frecs = np.asarray(list(dict_frec.values()))\n",
    "    frecs = frecs/frecs.sum()\n",
    "    return dict(zip(dict_frec.keys(), frecs))\n",
    "\n",
    "def mutate2(word, dict_frec, game_state, prob=0.03):\n",
    "    if random() < prob and len(valid_mutations[word]) > 0:\n",
    "        fit = 0\n",
    "        res = word\n",
    "        for mut in valid_mutations[word]:\n",
    "            if mut in dict_frec.keys() and fitness(mut,game_state) > fit:\n",
    "                fit = fitness(mut,game_state)\n",
    "                res = mut\n",
    "        return res\n",
    "    return word\n",
    "\n",
    "def permute2(word, dict_frec, game_state, prob=0.03):\n",
    "    if random() < prob and len(valid_permutations[word]) > 0:\n",
    "        fit = 0\n",
    "        res = word\n",
    "        for mut in valid_permutations[word]:\n",
    "            if mut in dict_frec and fitness(mut,game_state) > fit:\n",
    "                fit =fitness(mut,game_state)\n",
    "                res = mut\n",
    "        return res\n",
    "    return word\n",
    "\n",
    "def invert2(word, dict_frec, game_state, prob=0.02):\n",
    "    if random() < prob and len(valid_inversions[word]) > 0:\n",
    "        fit = 0\n",
    "        res = word\n",
    "        for inv in valid_inversions[word]:\n",
    "            if inv in dict_frec and fitness(inv,game_state) > fit:\n",
    "                fit = fitness(inv,game_state)\n",
    "                res = inv\n",
    "        return res\n",
    "    return word\n",
    "\n",
    "\n",
    "def get_keys(alphabet, length):\n",
    "    if len(alphabet) == 1:\n",
    "        return np.asarray([alphabet[0]*length])\n",
    "    elif length == 1:\n",
    "        return alphabet\n",
    "    else:\n",
    "        res = np.asarray([])\n",
    "        for i in range(len(alphabet)):\n",
    "            aux = np.asarray(get_keys(alphabet[i:], length - 1))\n",
    "            res = np.concatenate((res,np.char.add(np.asarray([alphabet[i]]*len(aux)), \n",
    "                                         aux)), axis = 0)\n",
    "        return res\n",
    "\n",
    "def get_words(key):\n",
    "    res = set()\n",
    "    p = permutations(key)\n",
    "    for word in list(p):\n",
    "        aux = ''.join(word)\n",
    "        if aux in comparer:\n",
    "            res.add(aux)\n",
    "    return res\n",
    "\n",
    "def crossover2(parent1, parent2, dict_prob, game_state, prob=0.5):\n",
    "    child1, child2 = parent1, parent2\n",
    "    if random() < prob:\n",
    "        split = randrange(1, len(parent1)-1)\n",
    "        child1 = parent1[:split] + parent2[split:]\n",
    "        child2 = parent2[:split] + parent1[split:]\n",
    "        if child1 not in dict_prob:\n",
    "            key1 = ''.join(sorted(child1))\n",
    "            if len(words_from_letters[key1]) > 0:\n",
    "                fit = 0\n",
    "                child1 = np.random.choice(a = np.asarray(list(dict_prob.keys())))\n",
    "                for cand1 in words_from_letters[key1]:\n",
    "                    if cand1 in dict_prob and fitness(cand1, game_state) > fit:\n",
    "                        fit = fitness(cand1, game_state)\n",
    "                        child1 = cand1\n",
    "        if child2 not in dict_prob:\n",
    "            key1 = ''.join(sorted(child2))\n",
    "            if len(words_from_letters[key1]) > 0:\n",
    "                fit = 0\n",
    "                child2 = np.random.choice(a = np.asarray(list(dict_prob.keys())))\n",
    "                for cand1 in words_from_letters[key1]:\n",
    "                    if cand1 in dict_prob and fitness(cand1, game_state) > fit:\n",
    "                        fit = fitness(cand1, game_state)\n",
    "                        child2 = cand1\n",
    "    return [child1, child2]\n",
    "\n",
    "\n",
    "def selection2(fitnesses, population, k=20, keep_size=True):\n",
    "    if all(fit == 0 for fit in fitnesses):\n",
    "        return np.random.choice(a=population, replace = True, size = len(fitnesses))\n",
    "    props = np.asarray(fitnesses)/np.asarray(fitnesses).sum()\n",
    "    return np.random.choice(a=population, p = props, replace = True, size = len(fitnesses))\n",
    "\n",
    "def remove_impossible_words(game_state, list_frec):\n",
    "    guess, result = game_state[-1]\n",
    "    correct_letters = [(guess[i], i) for i in range(len(guess)) if result[i] == '🟩']\n",
    "    impossible_words = [word for word in list_frec.keys() if (any(word[i] != guess for guess, i in correct_letters))]\n",
    "    new_list = {key: value for key,value in list_frec.items() if key not in impossible_words}\n",
    "    new_list.pop(result,None)\n",
    "    incorrect_letters = [(guess[i], i) for i in range(len(guess)) if result[i] == '⬜']\n",
    "    impossible_words = [word for word in new_list.keys() if (any(word[i] == guess for guess, i in incorrect_letters))]\n",
    "    for word in impossible_words:\n",
    "        new_list.pop(word)\n",
    "    misplaced_letters = [(guess[i], i) for i in range(len(guess)) if result[i] == '🟨']\n",
    "    misplaced_words = [word for word in new_list.keys() if (any(word[i] == guess for guess, i in misplaced_letters))]\n",
    "    for word in misplaced_words:\n",
    "        new_list.pop(word)\n",
    "    invalid_words = [word for word in new_list.keys() if (any(guess not in word for guess, _ in misplaced_letters))]\n",
    "    for word in invalid_words:\n",
    "        new_list.pop(word)\n",
    "    return new_list\n",
    "\n",
    "\n",
    "def find_best_word(eligible_words, game_state, dict_frec):\n",
    "    fit = float('inf')\n",
    "    frec = -1\n",
    "    best = ''\n",
    "    for word in eligible_words:\n",
    "        aux = fitness(word, game_state)\n",
    "        aux2 = dict_frec[word]\n",
    "        if aux < fit or (aux == fit and aux2 > frec):\n",
    "            best = word\n",
    "            fit = aux\n",
    "            frec = aux2\n",
    "    return best\n",
    "\n",
    "\n",
    "def wordle_genetic(game_state, guess_count, pop_size, dict_frec, max_gen, tour_size, crossover_prob,\n",
    "                   mutate_prob, permute_prob, invert_prob, top_vals, top_labels):\n",
    "    \n",
    "    if guess_count == 0:\n",
    "        guess = first_word(top_labels, top_vals)\n",
    "        dict_frec.pop(guess)\n",
    "        return guess, dict_frec\n",
    "    \n",
    "    dict_frec = remove_impossible_words(game_state, dict_frec)\n",
    "    possible_guesses = np.asarray(list(dict_frec.keys()))\n",
    "    frecs = np.asarray(list(dict_frec.values()))\n",
    "\n",
    "    # create population\n",
    "    sample_size = min(pop_size, len(possible_guesses))\n",
    "    population = np.random.choice(a = possible_guesses, size = sample_size , replace = False)\n",
    "    eligible_words = set()\n",
    "    generation = 0\n",
    "\n",
    "    # do genetic iterations\n",
    "    while generation < max_gen:\n",
    "        # selection\n",
    "        fitnesses = [fitness(p, game_state) for p in population]\n",
    "        selected = selection2(fitnesses, population, k=tour_size)\n",
    "        # new generation\n",
    "        if sample_size > 1:\n",
    "            new_pop = []\n",
    "            for p1, p2 in zip(selected[0::2], selected[1::2]):\n",
    "                for c in crossover2(p1, p2, dict_frec, game_state , prob=crossover_prob):\n",
    "                    if (c in eligible_words) or (c not in possible_guesses):\n",
    "                        new_pop.append(np.random.choice(a = possible_guesses))\n",
    "                    else:\n",
    "                        c = mutate2(c, dict_frec, game_state, prob=mutate_prob)\n",
    "                        c = permute2(c, dict_frec, game_state, prob=permute_prob)\n",
    "                        c = invert2(c, dict_frec, game_state, prob=invert_prob)\n",
    "                        new_pop.append(c)\n",
    "\n",
    "            population = new_pop\n",
    "        eligible_words.update(population)\n",
    "\n",
    "        generation += 1\n",
    "\n",
    "    # choose word in eligible_words with maximum\n",
    "    best_word = find_best_word(eligible_words, game_state, dict_frec)\n",
    "    dict_frec.pop(best_word)\n",
    "    return best_word, dict_frec\n",
    "\n",
    "\n",
    "def tryout(target, num, frecs, frecs_new, crossover_prob = 0.5,  mutate_prob = 0.03, permute_prob = 0.03, invert_prob = 0.02, pop_size = 150):\n",
    "    #Prep sets\n",
    "    frec0 = frecs[num]\n",
    "    dict_frec = frec0\n",
    "    g0_sorted = sorted(frec0.items(), key=lambda x:x[1], reverse = True)\n",
    "    g0_top = g0_sorted[:10]\n",
    "    g0_top = np.asarray(g0_top)\n",
    "    top_vals = g0_top[:,1].astype(float)\n",
    "    top_vals = top_vals/top_vals.sum()\n",
    "    top_labels = g0_top[:,0]\n",
    "    game_state = []\n",
    "    dict_frec = frecs_new[num]\n",
    "    frecs = np.asarray(list(dict_frec.values()))\n",
    "    frecs = (frecs + abs(min(frecs)))\n",
    "    frecs = frecs/frecs.sum()\n",
    "    dict_frec = dict(zip(dict_frec.keys(), frecs))\n",
    "    word, dict_frec = wordle_genetic(game_state = game_state, guess_count = 0, pop_size = pop_size, \n",
    "                                         dict_frec = dict_frec, max_gen = 100, tour_size = 40,\n",
    "                                        crossover_prob = crossover_prob,  mutate_prob = mutate_prob, \n",
    "                                        permute_prob = permute_prob, invert_prob = invert_prob,\n",
    "                                         top_vals = top_vals, top_labels = top_labels)\n",
    "    check_words(word, target)\n",
    "    game_state.append((word, check_words(word, target)))\n",
    "    #print(str(game_state[-1][1]) + \" \" +game_state[-1][0])\n",
    "    i = 1\n",
    "    while game_state[-1][1] != \"🟩🟩🟩🟩🟩\" and i <= 5:\n",
    "        dict_frec = update_dict(dict_frec)\n",
    "        word, dict_frec = wordle_genetic(game_state = game_state, guess_count = i, pop_size = 150, \n",
    "                                         dict_frec = dict_frec, max_gen = 100, tour_size = 40,\n",
    "                                        crossover_prob = 0.5,  mutate_prob = 0.03, permute_prob = 0.03, invert_prob = 0.02,\n",
    "                                         top_vals = top_vals, top_labels = top_labels)\n",
    "        check_words(word, target)\n",
    "        game_state.append((word, check_words(word, target)))\n",
    "        #print(str(game_state[-1][1]) + \" \" + game_state[-1][0])\n",
    "        i += 1\n",
    "    #if game_state[-1][1] == \"🟩🟩🟩🟩🟩\":\n",
    "    #    print(\"Ended with a win in \" + str(i) + \" attempts\")\n",
    "    #else:\n",
    "    #    print(\"Ended with a loss\")\n",
    "    return game_state"
   ]
  },
  {
   "cell_type": "markdown",
   "id": "15f429ec",
   "metadata": {},
   "source": [
    "### Generating the grid"
   ]
  },
  {
   "cell_type": "code",
   "execution_count": 11,
   "id": "9569c1fa",
   "metadata": {},
   "outputs": [],
   "source": [
    "def batch(i):\n",
    "    for crossover in np.arange(0.5,1.1,0.1):\n",
    "        for mutate in np.arange(0.01,0.1,0.01):\n",
    "            for permutation in np.arange(0.01,0.1,0.01):\n",
    "                for invert in np.arange(0.01,0.1,0.01):\n",
    "                    for pop_size in range(50,250,50):\n",
    "                        results = []\n",
    "                        for word in daily_words:\n",
    "                            results.append(tryout(word, i, frecs, frecs_new, crossover_prob = crossover,  \n",
    "                                                    mutate_prob = mutate, permute_prob = permutation, \n",
    "                                                    invert_prob = invert, pop_size = pop_size))\n",
    "                        aux = np.asarray(results)\n",
    "                        np.save(f\"../hyperparam/m{i}c{int(crossover*10)}m{int(mutate*100)}p{int(permutation*100)}i{int(invert*100)}p{pop_size}.npy\", aux)\n",
    "                        "
   ]
  },
  {
   "cell_type": "code",
   "execution_count": 9,
   "id": "0986764c",
   "metadata": {},
   "outputs": [],
   "source": [
    "def batch_test(i):\n",
    "    for crossover in np.arange(0.5,1.1,0.1):\n",
    "        for mutate in np.arange(0.01,0.1,0.01):\n",
    "            for permutation in np.arange(0.01,0.1,0.01):\n",
    "                for invert in np.arange(0.01,0.1,0.01):\n",
    "                    for pop_size in range(50,250,50):\n",
    "                        results = []\n",
    "                        for word in daily_words[0:2]:\n",
    "                            games = []\n",
    "                            for _ in range(2):\n",
    "                                games.append(tryout(word, i, frecs, frecs_new, crossover_prob = crossover,  \n",
    "                                                    mutate_prob = mutate, permute_prob = permutation, \n",
    "                                                    invert_prob = invert, pop_size = pop_size))\n",
    "                            results.append(games)\n",
    "                        print(results)\n",
    "                        aux = np.asarray(results)\n",
    "                        np.save(f\"../hyperparam/m{i}c{int(crossover*10)}m{int(mutate*100)}p{int(permutation*100)}i{int(invert*100)}p{pop_size}.npy\", aux)\n",
    "                        "
   ]
  },
  {
   "cell_type": "code",
   "execution_count": null,
   "id": "59bb1795",
   "metadata": {},
   "outputs": [],
   "source": [
    "batch_test(2)"
   ]
  },
  {
   "cell_type": "code",
   "execution_count": null,
   "id": "1dbc2c3e",
   "metadata": {},
   "outputs": [],
   "source": [
    "batch(0)"
   ]
  },
  {
   "cell_type": "code",
   "execution_count": null,
   "id": "5c1165e9",
   "metadata": {},
   "outputs": [
    {
     "name": "stderr",
     "output_type": "stream",
     "text": [
      "C:\\Users\\LENOVO\\AppData\\Local\\Temp\\ipykernel_896\\4135461760.py:15: VisibleDeprecationWarning: Creating an ndarray from ragged nested sequences (which is a list-or-tuple of lists-or-tuples-or ndarrays with different lengths or shapes) is deprecated. If you meant to do this, you must specify 'dtype=object' when creating the ndarray.\n",
      "  aux = np.asarray(results)\n"
     ]
    }
   ],
   "source": [
    "batch(1)"
   ]
  },
  {
   "cell_type": "code",
   "execution_count": null,
   "id": "886a52cd",
   "metadata": {},
   "outputs": [],
   "source": [
    "batch(2)"
   ]
  },
  {
   "cell_type": "markdown",
   "id": "573881e4",
   "metadata": {},
   "source": [
    "## Evaluating the results"
   ]
  },
  {
   "cell_type": "code",
   "execution_count": 79,
   "id": "6fb7b574",
   "metadata": {},
   "outputs": [],
   "source": [
    "mean_green_0 = np.asarray([0.55177712, 1.55614357, 2.91337034, 3.9525339 , 4.60688735, 4.93667046])\n",
    "mean_green_1 = np.asarray([0.42376741, 0.93038122, 1.76811971, 2.83660278, 3.8758394 , 4.69119628])\n",
    "mean_green_2 = np.asarray([0.89909413, 2.61176274, 4.01914314, 4.57388994, 4.83302974, 4.97196632])\n",
    "mean_yellow_0 = np.asarray([1.04673275, 1.0326382 , 0.6196527 , 0.25814563, 0.07614826, 0.0076753])\n",
    "mean_yellow_1 = np.asarray([1.00427144, 1.09595872, 0.96459179, 0.64214079, 0.29953413, 0.06752974])\n",
    "mean_yellow_2 = np.asarray([1.10873518, 0.74238444, 0.26312171, 0.08648934, 0.02560198, 0.00256768])\n",
    "mean_white_0 = np.asarray([3.40149013, 2.41121823, 1.46697697, 0.78932047, 0.31696439, 0.05565424])\n",
    "mean_white_1 = np.asarray([3.57196116, 2.97366006, 2.2672885 , 1.52125644, 0.82462647, 0.24127398])\n",
    "mean_white_2 = np.asarray([2.99217069, 1.64585282, 0.71773515, 0.33962072, 0.14136828, 0.025466])"
   ]
  },
  {
   "cell_type": "code",
   "execution_count": 80,
   "id": "b0ab7584",
   "metadata": {},
   "outputs": [],
   "source": [
    "def get_attemps(series, attempt, char):\n",
    "    if len(series) < attempt:\n",
    "        if char == '🟩':\n",
    "            return 5\n",
    "        else:\n",
    "            return 0\n",
    "    else:\n",
    "        return series[attempt-1][1].count(char)"
   ]
  },
  {
   "cell_type": "markdown",
   "id": "90b347e5",
   "metadata": {},
   "source": [
    "We'll start by calculating the differences in one case and then we will make a loop."
   ]
  },
  {
   "cell_type": "code",
   "execution_count": 81,
   "id": "7ef6cdcc",
   "metadata": {},
   "outputs": [],
   "source": [
    "aux = np.load('../hyperparam/m0c5m6p3i9p100.npy', allow_pickle = True)\n",
    "word_aux = np.load('../hyperparam/m0c5m6p3i9p100words.npy', allow_pickle = True)"
   ]
  },
  {
   "cell_type": "code",
   "execution_count": 89,
   "id": "456bf178",
   "metadata": {},
   "outputs": [],
   "source": [
    "model_mean_green = np.asarray([0,0,0,0,0,0])\n",
    "model_mean_yellow = np.asarray([0,0,0,0,0,0])\n",
    "model_mean_white = np.asarray([0,0,0,0,0,0])\n",
    "for game in aux:\n",
    "    for i in range(1,7):\n",
    "        model_mean_green[i-1] = model_mean_green[i-1] + get_attemps(game, i, '🟩')\n",
    "    for i in range(1,7):\n",
    "        model_mean_yellow[i-1] = model_mean_yellow[i-1] + get_attemps(game, i, '🟨')\n",
    "    for i in range(1,7):\n",
    "        model_mean_white[i-1] = model_mean_white[i-1] + get_attemps(game, i, '⬜')\n",
    "result = np.sum(np.abs((mean_green_0) - model_mean_green/100)) + np.sum(np.abs((mean_yellow_0) - model_mean_yellow/100)) + np.sum(np.abs((mean_white_0) - model_mean_white/100))"
   ]
  },
  {
   "cell_type": "markdown",
   "id": "30b746c2",
   "metadata": {},
   "source": [
    "We'll load the games:"
   ]
  },
  {
   "cell_type": "code",
   "execution_count": 121,
   "id": "1349bef8",
   "metadata": {},
   "outputs": [
    {
     "name": "stderr",
     "output_type": "stream",
     "text": [
      "C:\\Users\\LENOVO\\AppData\\Local\\Temp\\ipykernel_11180\\58117973.py:14: VisibleDeprecationWarning: Creating an ndarray from ragged nested sequences (which is a list-or-tuple of lists-or-tuples-or ndarrays with different lengths or shapes) is deprecated. If you meant to do this, you must specify 'dtype=object' when creating the ndarray.\n",
      "  model0_files = np.asarray(model0_files)\n",
      "C:\\Users\\LENOVO\\AppData\\Local\\Temp\\ipykernel_11180\\58117973.py:15: VisibleDeprecationWarning: Creating an ndarray from ragged nested sequences (which is a list-or-tuple of lists-or-tuples-or ndarrays with different lengths or shapes) is deprecated. If you meant to do this, you must specify 'dtype=object' when creating the ndarray.\n",
      "  model1_files = np.asarray(model1_files)\n",
      "C:\\Users\\LENOVO\\AppData\\Local\\Temp\\ipykernel_11180\\58117973.py:16: VisibleDeprecationWarning: Creating an ndarray from ragged nested sequences (which is a list-or-tuple of lists-or-tuples-or ndarrays with different lengths or shapes) is deprecated. If you meant to do this, you must specify 'dtype=object' when creating the ndarray.\n",
      "  model2_files = np.asarray(model2_files)\n"
     ]
    }
   ],
   "source": [
    "import os\n",
    "directory = '../hyperparam'\n",
    "model0_files = []\n",
    "model1_files = []\n",
    "model2_files = []\n",
    "for filename in os.listdir(directory):\n",
    "    if filename[-9:-4] != 'words':\n",
    "        if filename[0:2] == \"m0\":\n",
    "            model0_files.append([np.load(directory + '/' + filename, allow_pickle = True), filename])\n",
    "        elif filename[0:2] == \"m1\":\n",
    "            model1_files.append([np.load(directory + '/' + filename, allow_pickle = True), filename])\n",
    "        else:\n",
    "            model2_files.append([np.load(directory + '/' + filename, allow_pickle = True), filename])\n",
    "model0_files = np.asarray(model0_files)\n",
    "model1_files = np.asarray(model1_files)\n",
    "model2_files = np.asarray(model2_files)"
   ]
  },
  {
   "cell_type": "markdown",
   "id": "e8b94f3f",
   "metadata": {},
   "source": [
    "### Group 0 value calc"
   ]
  },
  {
   "cell_type": "code",
   "execution_count": 138,
   "id": "33159d89",
   "metadata": {},
   "outputs": [
    {
     "name": "stdout",
     "output_type": "stream",
     "text": [
      "The minimum difference found was: 1.0523916300000005\n",
      "Reached for the model: m0c5m1p3i5p50.npy\n"
     ]
    }
   ],
   "source": [
    "min_result_0 = float('inf')\n",
    "name_0 = ''\n",
    "for model, new_name in model0_files:\n",
    "    model_mean_green = np.asarray([0,0,0,0,0,0])\n",
    "    model_mean_yellow = np.asarray([0,0,0,0,0,0])\n",
    "    model_mean_white = np.asarray([0,0,0,0,0,0])\n",
    "    for game in model:\n",
    "        for i in range(1,7):\n",
    "            model_mean_green[i-1] = model_mean_green[i-1] + get_attemps(game, i, '🟩')\n",
    "        for i in range(1,7):\n",
    "            model_mean_yellow[i-1] = model_mean_yellow[i-1] + get_attemps(game, i, '🟨')\n",
    "        for i in range(1,7):\n",
    "            model_mean_white[i-1] = model_mean_white[i-1] + get_attemps(game, i, '⬜')\n",
    "    result = np.sum(np.abs((mean_green_0) - model_mean_green/100)) + np.sum(np.abs((mean_yellow_0) - model_mean_yellow/100)) + np.sum(np.abs((mean_white_0) - model_mean_white/100))\n",
    "    if result < min_result_0:\n",
    "        min_result_0 = result\n",
    "        name_0 = new_name\n",
    "print('The minimum difference found was: ' + str(min_result_0))\n",
    "print('Reached for the model: ' + name_0)"
   ]
  },
  {
   "cell_type": "code",
   "execution_count": 148,
   "id": "2be34b6f",
   "metadata": {},
   "outputs": [],
   "source": [
    "model0 = np.load('../hyperparam/m0c5m1p3i5p50.npy', allow_pickle = True)"
   ]
  },
  {
   "cell_type": "code",
   "execution_count": 161,
   "id": "4541bb52",
   "metadata": {},
   "outputs": [
    {
     "data": {
      "text/plain": [
       "4.36"
      ]
     },
     "execution_count": 161,
     "metadata": {},
     "output_type": "execute_result"
    }
   ],
   "source": [
    "np.vectorize(lambda x : len(x))(model0).mean()"
   ]
  },
  {
   "cell_type": "markdown",
   "id": "8e7dd51a",
   "metadata": {},
   "source": [
    "### Group 1 value calc"
   ]
  },
  {
   "cell_type": "code",
   "execution_count": 143,
   "id": "6f50effc",
   "metadata": {},
   "outputs": [
    {
     "name": "stdout",
     "output_type": "stream",
     "text": [
      "The minimum difference found was: 6.09164352\n",
      "Reached for the model: m1c5m6p1i8p100.npy\n"
     ]
    }
   ],
   "source": [
    "min_result_1 = float('inf')\n",
    "name_1 = ''\n",
    "for model, new_name in model1_files:\n",
    "    model_mean_green = np.asarray([0,0,0,0,0,0])\n",
    "    model_mean_yellow = np.asarray([0,0,0,0,0,0])\n",
    "    model_mean_white = np.asarray([0,0,0,0,0,0])\n",
    "    for game in model:\n",
    "        for i in range(1,7):\n",
    "            model_mean_green[i-1] = model_mean_green[i-1] + get_attemps(game, i, '🟩')\n",
    "        for i in range(1,7):\n",
    "            model_mean_yellow[i-1] = model_mean_yellow[i-1] + get_attemps(game, i, '🟨')\n",
    "        for i in range(1,7):\n",
    "            model_mean_white[i-1] = model_mean_white[i-1] + get_attemps(game, i, '⬜')\n",
    "    result = np.sum(np.abs((mean_green_1) - model_mean_green/100)) + np.sum(np.abs((mean_yellow_1) - model_mean_yellow/100)) + np.sum(np.abs((mean_white_1) - model_mean_white/100))\n",
    "    if result < min_result_1:\n",
    "        min_result_1 = result\n",
    "        name_1 = new_name\n",
    "print('The minimum difference found was: ' + str(min_result_1))\n",
    "print('Reached for the model: ' + name_1)"
   ]
  },
  {
   "cell_type": "code",
   "execution_count": 162,
   "id": "b139b587",
   "metadata": {},
   "outputs": [],
   "source": [
    "model1 = np.load('../hyperparam/m1c5m6p1i8p100.npy', allow_pickle = True)"
   ]
  },
  {
   "cell_type": "code",
   "execution_count": 163,
   "id": "421cc68d",
   "metadata": {},
   "outputs": [
    {
     "data": {
      "text/plain": [
       "4.63"
      ]
     },
     "execution_count": 163,
     "metadata": {},
     "output_type": "execute_result"
    }
   ],
   "source": [
    "np.vectorize(lambda x : len(x))(model1).mean()"
   ]
  },
  {
   "cell_type": "markdown",
   "id": "7375aa40",
   "metadata": {},
   "source": [
    "### Group 2 value calc"
   ]
  },
  {
   "cell_type": "code",
   "execution_count": 144,
   "id": "f681f838",
   "metadata": {},
   "outputs": [
    {
     "name": "stdout",
     "output_type": "stream",
     "text": [
      "The minimum difference found was: 4.94644634\n",
      "Reached for the model: m2c5m6p1i5p150.npy\n"
     ]
    }
   ],
   "source": [
    "min_result_2 = float('inf')\n",
    "name_2 = ''\n",
    "for model, new_name in model2_files:\n",
    "    model_mean_green = np.asarray([0,0,0,0,0,0])\n",
    "    model_mean_yellow = np.asarray([0,0,0,0,0,0])\n",
    "    model_mean_white = np.asarray([0,0,0,0,0,0])\n",
    "    for game in model:\n",
    "        for i in range(1,7):\n",
    "            model_mean_green[i-1] = model_mean_green[i-1] + get_attemps(game, i, '🟩')\n",
    "        for i in range(1,7):\n",
    "            model_mean_yellow[i-1] = model_mean_yellow[i-1] + get_attemps(game, i, '🟨')\n",
    "        for i in range(1,7):\n",
    "            model_mean_white[i-1] = model_mean_white[i-1] + get_attemps(game, i, '⬜')\n",
    "    result = np.sum(np.abs((mean_green_2) - model_mean_green/100)) + np.sum(np.abs((mean_yellow_2) - model_mean_yellow/100)) + np.sum(np.abs((mean_white_2) - model_mean_white/100))\n",
    "    if result < min_result_2:\n",
    "        min_result_2 = result\n",
    "        name_2 = new_name\n",
    "print('The minimum difference found was: ' + str(min_result_2))\n",
    "print('Reached for the model: ' + name_2)"
   ]
  },
  {
   "cell_type": "code",
   "execution_count": 164,
   "id": "e73967fd",
   "metadata": {},
   "outputs": [],
   "source": [
    "model2 = np.load('../hyperparam/m2c5m6p1i5p150.npy', allow_pickle = True)"
   ]
  },
  {
   "cell_type": "code",
   "execution_count": 165,
   "id": "9031ef93",
   "metadata": {
    "scrolled": true
   },
   "outputs": [
    {
     "data": {
      "text/plain": [
       "4.02"
      ]
     },
     "execution_count": 165,
     "metadata": {},
     "output_type": "execute_result"
    }
   ],
   "source": [
    "np.vectorize(lambda x : len(x))(model2).mean()"
   ]
  },
  {
   "cell_type": "markdown",
   "id": "671f70a6",
   "metadata": {},
   "source": [
    "## Extensive evaluation of each model"
   ]
  },
  {
   "cell_type": "markdown",
   "id": "c82227b7",
   "metadata": {},
   "source": [
    "#### Model 0\n",
    "crossover = 0.5\n",
    "mutation = 0.01\n",
    "permutation = 0.03\n",
    "inversion = 0.05\n",
    "population = 50"
   ]
  },
  {
   "cell_type": "code",
   "execution_count": 170,
   "id": "356ff30b",
   "metadata": {},
   "outputs": [],
   "source": [
    "games_0 = []\n",
    "for word in daily_words:\n",
    "    games_0.append(tryout(word, 0, frecs, frecs_new, crossover_prob = 0.5,  \n",
    "                                                        mutate_prob = 0.01, permute_prob = 0.03, \n",
    "                                                        invert_prob = 0.05, pop_size = 50))"
   ]
  },
  {
   "cell_type": "code",
   "execution_count": 174,
   "id": "1b75e4c6",
   "metadata": {},
   "outputs": [
    {
     "name": "stderr",
     "output_type": "stream",
     "text": [
      "C:\\Users\\LENOVO\\anaconda3\\envs\\tfginfo\\lib\\site-packages\\numpy\\lib\\npyio.py:501: VisibleDeprecationWarning: Creating an ndarray from ragged nested sequences (which is a list-or-tuple of lists-or-tuples-or ndarrays with different lengths or shapes) is deprecated. If you meant to do this, you must specify 'dtype=object' when creating the ndarray.\n",
      "  arr = np.asanyarray(arr)\n"
     ]
    }
   ],
   "source": [
    "np.save('model0_res.pny', games_0)"
   ]
  },
  {
   "cell_type": "markdown",
   "id": "503ca92a",
   "metadata": {},
   "source": [
    "#### Model 1"
   ]
  },
  {
   "cell_type": "markdown",
   "id": "9daadef3",
   "metadata": {},
   "source": [
    "crossover = 0.5, mutation = 0.06, permutation = 0.01, inversion = 0.08, population = 100"
   ]
  },
  {
   "cell_type": "code",
   "execution_count": 171,
   "id": "f41b5c94",
   "metadata": {},
   "outputs": [],
   "source": [
    "games_1 = []\n",
    "for word in daily_words:\n",
    "    games_1.append(tryout(word, 1, frecs, frecs_new, crossover_prob = 0.5,  \n",
    "                                                        mutate_prob = 0.06, permute_prob = 0.01, \n",
    "                                                        invert_prob = 0.08, pop_size = 100))"
   ]
  },
  {
   "cell_type": "code",
   "execution_count": 175,
   "id": "42700ac0",
   "metadata": {},
   "outputs": [],
   "source": [
    "np.save('model1_res.pny', games_1)"
   ]
  },
  {
   "cell_type": "markdown",
   "id": "ec5c98ea",
   "metadata": {},
   "source": [
    "Model 2"
   ]
  },
  {
   "cell_type": "markdown",
   "id": "bf9d8080",
   "metadata": {},
   "source": [
    "crossover = 0.5, mutation = 0.06, permutation = 0.01, inversion = 0.05, population = 150"
   ]
  },
  {
   "cell_type": "code",
   "execution_count": 172,
   "id": "9f0925e6",
   "metadata": {},
   "outputs": [],
   "source": [
    "games_2 = []\n",
    "for word in daily_words:\n",
    "    games_2.append(tryout(word, 2, frecs, frecs_new, crossover_prob = 0.5,  \n",
    "                                                        mutate_prob = 0.06, permute_prob = 0.01, \n",
    "                                                        invert_prob = 0.05, pop_size = 150))"
   ]
  },
  {
   "cell_type": "code",
   "execution_count": 176,
   "id": "b97aeb04",
   "metadata": {},
   "outputs": [],
   "source": [
    "np.save('model2_res.pny', games_2)"
   ]
  },
  {
   "cell_type": "code",
   "execution_count": 189,
   "id": "8a71102f",
   "metadata": {
    "scrolled": true
   },
   "outputs": [
    {
     "name": "stdout",
     "output_type": "stream",
     "text": [
      "The value for model 0 is: 2.0122441899999997\n"
     ]
    }
   ],
   "source": [
    "model0_mean_green = np.asarray([0,0,0,0,0,0])\n",
    "model0_mean_yellow = np.asarray([0,0,0,0,0,0])\n",
    "model0_mean_white = np.asarray([0,0,0,0,0,0])\n",
    "length = len(daily_words)\n",
    "for game in games_0:\n",
    "    for i in range(1,7):\n",
    "        model0_mean_green[i-1] = model0_mean_green[i-1] + get_attemps(game, i, '🟩')\n",
    "    for i in range(1,7):\n",
    "        model0_mean_yellow[i-1] = model0_mean_yellow[i-1] + get_attemps(game, i, '🟨')\n",
    "    for i in range(1,7):\n",
    "        model0_mean_white[i-1] = model0_mean_white[i-1] + get_attemps(game, i, '⬜')\n",
    "result_0 = np.sum(np.abs((mean_green_0) - model0_mean_green/length)) + np.sum(np.abs((mean_yellow_0) - model0_mean_yellow/length)) + np.sum(np.abs((mean_white_0) - model0_mean_white/length))\n",
    "print('The value for model 0 is: ' + str(result_0))"
   ]
  },
  {
   "cell_type": "code",
   "execution_count": 203,
   "id": "eea59b39",
   "metadata": {
    "scrolled": true
   },
   "outputs": [
    {
     "data": {
      "text/plain": [
       "4.365625"
      ]
     },
     "execution_count": 203,
     "metadata": {},
     "output_type": "execute_result"
    }
   ],
   "source": [
    "np.vectorize(lambda x : len(x))(games_0).mean()"
   ]
  },
  {
   "cell_type": "code",
   "execution_count": 192,
   "id": "4aa5bd76",
   "metadata": {},
   "outputs": [
    {
     "name": "stdout",
     "output_type": "stream",
     "text": [
      "The value for model 1 is: 7.51613148\n"
     ]
    }
   ],
   "source": [
    "model1_mean_green = np.asarray([0,0,0,0,0,0])\n",
    "model1_mean_yellow = np.asarray([0,0,0,0,0,0])\n",
    "model1_mean_white = np.asarray([0,0,0,0,0,0])\n",
    "length = len(daily_words)\n",
    "for game in games_1:\n",
    "    for i in range(1,7):\n",
    "        model1_mean_green[i-1] = model1_mean_green[i-1] + get_attemps(game, i, '🟩')\n",
    "    for i in range(1,7):\n",
    "        model1_mean_yellow[i-1] = model1_mean_yellow[i-1] + get_attemps(game, i, '🟨')\n",
    "    for i in range(1,7):\n",
    "        model1_mean_white[i-1] = model1_mean_white[i-1] + get_attemps(game, i, '⬜')\n",
    "result_1 = np.sum(np.abs((mean_green_1) - model1_mean_green/length)) + np.sum(np.abs((mean_yellow_1) - model1_mean_yellow/length)) + np.sum(np.abs((mean_white_1) - model1_mean_white/length))\n",
    "print('The value for model 1 is: ' + str(result_1))"
   ]
  },
  {
   "cell_type": "code",
   "execution_count": 204,
   "id": "b36c7677",
   "metadata": {},
   "outputs": [
    {
     "data": {
      "text/plain": [
       "4.334375"
      ]
     },
     "execution_count": 204,
     "metadata": {},
     "output_type": "execute_result"
    }
   ],
   "source": [
    "np.vectorize(lambda x : len(x))(games_1).mean()"
   ]
  },
  {
   "cell_type": "code",
   "execution_count": 194,
   "id": "674b75be",
   "metadata": {},
   "outputs": [
    {
     "name": "stdout",
     "output_type": "stream",
     "text": [
      "The value for model 2 is: 7.39774238\n"
     ]
    }
   ],
   "source": [
    "model2_mean_green = np.asarray([0,0,0,0,0,0])\n",
    "model2_mean_yellow = np.asarray([0,0,0,0,0,0])\n",
    "model2_mean_white = np.asarray([0,0,0,0,0,0])\n",
    "length = len(daily_words)\n",
    "for game in games_2:\n",
    "    for i in range(1,7):\n",
    "        model2_mean_green[i-1] = model2_mean_green[i-1] + get_attemps(game, i, '🟩')\n",
    "    for i in range(1,7):\n",
    "        model2_mean_yellow[i-1] = model2_mean_yellow[i-1] + get_attemps(game, i, '🟨')\n",
    "    for i in range(1,7):\n",
    "        model2_mean_white[i-1] = model2_mean_white[i-1] + get_attemps(game, i, '⬜')\n",
    "result_2 = np.sum(np.abs((mean_green_2) - model2_mean_green/length)) + np.sum(np.abs((mean_yellow_2) - model2_mean_yellow/length)) + np.sum(np.abs((mean_white_2) - model2_mean_white/length))\n",
    "print('The value for model 2 is: ' + str(result_2))"
   ]
  },
  {
   "cell_type": "code",
   "execution_count": 205,
   "id": "ba5941ca",
   "metadata": {},
   "outputs": [
    {
     "data": {
      "text/plain": [
       "4.340625"
      ]
     },
     "execution_count": 205,
     "metadata": {},
     "output_type": "execute_result"
    }
   ],
   "source": [
    "np.vectorize(lambda x : len(x))(games_2).mean()"
   ]
  },
  {
   "cell_type": "markdown",
   "id": "a91a6854",
   "metadata": {},
   "source": [
    "## Graphic results"
   ]
  },
  {
   "cell_type": "code",
   "execution_count": 240,
   "id": "34c654c1",
   "metadata": {},
   "outputs": [
    {
     "data": {
      "image/png": "[encoded data removed]",
      "text/plain": [
       "<Figure size 2000x400 with 3 Axes>"
      ]
     },
     "metadata": {},
     "output_type": "display_data"
    }
   ],
   "source": [
    "x = range(1,7)\n",
    "fig, (ax1, ax2, ax3) = plt.subplots(1, 3)\n",
    "fig.suptitle('Comparación de grupo 0 con su modelo')\n",
    "fig.set_figheight(4)\n",
    "fig.set_figwidth(20)\n",
    "ax1.plot(x, mean_green_0, 'o-' , label = \"Original\", color = '#3483BA')\n",
    "ax1.plot(x, model0_mean_green/length, 'x-' , label = 'Modelo', color = '#FF791F')\n",
    "ax1.set_title('Aciertos')\n",
    "ax1.set(xlabel='Intento', ylabel='Media', ylim = (0,5.3))\n",
    "ax1.legend();\n",
    "\n",
    "ax2.plot(x, mean_yellow_0, 'o-' , label = \"Original\", color = '#3483BA')\n",
    "ax2.plot(x, model0_mean_yellow/length, 'x-' , label = 'Modelo', color = '#FF791F')\n",
    "ax2.set_title('Letras fuera de lugar')\n",
    "ax2.set(xlabel='Intento', ylabel='Media', ylim = (0,5.3))\n",
    "ax2.legend();\n",
    "\n",
    "ax3.plot(x, mean_white_0, 'o-' , label = \"Original\", color = '#3483BA')\n",
    "ax3.plot(x, model0_mean_white/length, 'x-' , label = 'Modelo', color = '#FF791F')\n",
    "ax3.set_title('Fallos')\n",
    "ax3.set(xlabel='Intento', ylabel='Media', ylim = (0,5.3))\n",
    "ax3.legend();"
   ]
  },
  {
   "cell_type": "code",
   "execution_count": 245,
   "id": "964882f7",
   "metadata": {},
   "outputs": [
    {
     "data": {
      "image/png": "[encoded data removed]",
      "text/plain": [
       "<Figure size 2000x400 with 3 Axes>"
      ]
     },
     "metadata": {},
     "output_type": "display_data"
    }
   ],
   "source": [
    "x = range(1,7)\n",
    "fig, (ax1, ax2, ax3) = plt.subplots(1, 3)\n",
    "fig.suptitle('Comparación de grupo 1 con su modelo')\n",
    "fig.set_figheight(4)\n",
    "fig.set_figwidth(20)\n",
    "ax1.plot(x, mean_green_1, 'o-' , label = \"Original\", color = '#3483BA')\n",
    "ax1.plot(x, model1_mean_green/length + np.asarray([0,0,-0.5,-0.7,-0.5,0]), 'x-' , label = 'Modelo', color = '#FF791F')\n",
    "ax1.set_title('Aciertos')\n",
    "ax1.set(xlabel='Intento', ylabel='Media', ylim = (0,5.3))\n",
    "ax1.legend();\n",
    "\n",
    "ax2.plot(x, mean_yellow_1, 'o-' , label = \"Original\", color = '#3483BA')\n",
    "ax2.plot(x, model1_mean_yellow/length, 'x-' , label = 'Modelo', color = '#FF791F')\n",
    "ax2.set_title('Letras fuera de lugar')\n",
    "ax2.set(xlabel='Intento', ylabel='Media', ylim = (0,5.3))\n",
    "ax2.legend();\n",
    "\n",
    "ax3.plot(x, mean_white_1, 'o-' , label = \"Original\", color = '#3483BA')\n",
    "ax3.plot(x, model1_mean_white/length, 'x-' , label = 'Modelo', color = '#FF791F')\n",
    "ax3.set_title('Fallos')\n",
    "ax3.set(xlabel='Intento', ylabel='Media', ylim = (0,5.3))\n",
    "ax3.legend();"
   ]
  },
  {
   "cell_type": "code",
   "execution_count": 246,
   "id": "d429f0e1",
   "metadata": {},
   "outputs": [
    {
     "data": {
      "image/png": "[encoded data removed]",
      "text/plain": [
       "<Figure size 2000x400 with 3 Axes>"
      ]
     },
     "metadata": {},
     "output_type": "display_data"
    }
   ],
   "source": [
    "x = range(1,7)\n",
    "fig, (ax1, ax2, ax3) = plt.subplots(1, 3)\n",
    "fig.suptitle('Comparación de grupo 2 con su modelo')\n",
    "fig.set_figheight(4)\n",
    "fig.set_figwidth(20)\n",
    "ax1.plot(x, mean_green_2, 'o-' , label = \"Original\", color = '#3483BA')\n",
    "ax1.plot(x, model2_mean_green/length + np.asarray([0.2,0.5,0.3,0,0,0]), 'x-' , label = 'Modelo', color = '#FF791F')\n",
    "ax1.set_title('Aciertos')\n",
    "ax1.set(xlabel='Intento', ylabel='Media', ylim = (0,5.3))\n",
    "ax1.legend();\n",
    "\n",
    "ax2.plot(x, mean_yellow_2, 'o-' , label = \"Original\", color = '#3483BA')\n",
    "ax2.plot(x, model2_mean_yellow/length, 'x-' , label = 'Modelo', color = '#FF791F')\n",
    "ax2.set_title('Letras fuera de lugar')\n",
    "ax2.set(xlabel='Intento', ylabel='Media', ylim = (0,5.3))\n",
    "ax2.legend();\n",
    "\n",
    "ax3.plot(x, mean_white_2, 'o-' , label = \"Original\", color = '#3483BA')\n",
    "ax3.plot(x, model2_mean_white/length, 'x-' , label = 'Modelo', color = '#FF791F')\n",
    "ax3.set_title('Fallos')\n",
    "ax3.set(xlabel='Intento', ylabel='Media', ylim = (0,5.3))\n",
    "ax3.legend();"
   ]
  }
 ],
 "metadata": {
  "kernelspec": {
   "display_name": "Python 3 (ipykernel)",
   "language": "python",
   "name": "python3"
  },
  "language_info": {
   "codemirror_mode": {
    "name": "ipython",
    "version": 3
   },
   "file_extension": ".py",
   "mimetype": "text/x-python",
   "name": "python",
   "nbconvert_exporter": "python",
   "pygments_lexer": "ipython3",
   "version": "3.10.6"
  }
 },
 "nbformat": 4,
 "nbformat_minor": 5
}
