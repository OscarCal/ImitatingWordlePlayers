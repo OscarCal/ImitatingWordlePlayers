{
 "cells": [
  {
   "cell_type": "code",
   "execution_count": 1,
   "id": "7a6dcc50",
   "metadata": {},
   "outputs": [],
   "source": [
    "from random import choice, sample, randrange, random, shuffle\n",
    "from string import ascii_lowercase\n",
    "import numpy as np"
   ]
  },
  {
   "cell_type": "markdown",
   "id": "9b609e50",
   "metadata": {},
   "source": [
    "### Defining the fitness function"
   ]
  },
  {
   "cell_type": "markdown",
   "id": "e4ba4fed",
   "metadata": {},
   "source": [
    "$fitness(w) = \\sum^{nºguesses}_{i=1}(|correct(g_i,w) - c_i|+|misplaced(g_i,w) - m_i|)$"
   ]
  },
  {
   "cell_type": "markdown",
   "id": "c022bd5d",
   "metadata": {},
   "source": [
    "Where $w$ is a word for which we will evaluate the fitness, $g_i$ is the guess played on turn $i$, $c_i$ is the number of correct values obtained in the guess $i$, $correct(g,r)$ return the number of correct positions in a Wordle game provided that $g$ is the attempt and $w$ is the secret word, $misplaced(g,w)$ returns the number of misplaced letters given that $g$ is the attempt and $w$ is the secret word, $m_i$ is the number of misplaced letters obtained in the attempt $i$. "
   ]
  },
  {
   "cell_type": "code",
   "execution_count": 6,
   "id": "ced0003e",
   "metadata": {},
   "outputs": [],
   "source": [
    "def find(s, ch):\n",
    "    return [i for i, ltr in enumerate(s) if ltr == ch]\n",
    "\n",
    "def check_words(input_word ,target):\n",
    "    input_word = input_word.lower()\n",
    "    target = target.lower()\n",
    "    sequence = ['⬜']*5\n",
    "    selected = [False]*5\n",
    "    for i in range(0,5):\n",
    "        if input_word[i] == target[i]:\n",
    "            sequence[i] = '🟩'\n",
    "            selected[i] = True\n",
    "    for i in range(0,5):\n",
    "        if input_word[i] != target[i]:\n",
    "            indexes = find(target, input_word[i])\n",
    "            for index in indexes:\n",
    "                if not selected[index]:\n",
    "                    selected[index] = True\n",
    "                    sequence[i] = '🟨'\n",
    "                    break\n",
    "    aux = \"\"\n",
    "    return aux.join(sequence)"
   ]
  },
  {
   "cell_type": "code",
   "execution_count": 5,
   "id": "6c0c0e17",
   "metadata": {},
   "outputs": [],
   "source": [
    "def fitness(word, game_state):\n",
    "    sum = 0\n",
    "    for guess, result in game_state:\n",
    "        match = result.count('🟩')\n",
    "        misplaced =  result.count('🟨')\n",
    "        result = check_words(guess, word)\n",
    "        pos_match = result.count('🟩')\n",
    "        pos_misplaced = result.count('🟨')\n",
    "        sum += abs(pos_match - match) + abs(pos_misplaced - misplaced)\n",
    "    return (sum + const*len(word)*(self.guess_count_-1))"
   ]
  },
  {
   "cell_type": "markdown",
   "id": "bf2d8197",
   "metadata": {},
   "source": [
    "### Defining mutation\n",
    "Mutation occurs when a random letter of the word is changed."
   ]
  },
  {
   "cell_type": "code",
   "execution_count": 7,
   "id": "00a0c933",
   "metadata": {},
   "outputs": [],
   "source": [
    "def mutate(word, prob=0.03):\n",
    "    if random() < prob:\n",
    "        word = list(word)\n",
    "        word[randrange(len(word))] = choice(ascii_lowercase)\n",
    "        word = ''.join(word)\n",
    "    return word"
   ]
  },
  {
   "cell_type": "markdown",
   "id": "1304562b",
   "metadata": {},
   "source": [
    "### Defining permutation\n",
    "Permutation occurs when two letters from a word are switched"
   ]
  },
  {
   "cell_type": "code",
   "execution_count": 8,
   "id": "334441cc",
   "metadata": {},
   "outputs": [],
   "source": [
    "def permute(word, prob=0.03):\n",
    "    if random() < prob:\n",
    "        idx1, idx2 = sample(range(len(word)), 2)\n",
    "        word = list(word)\n",
    "        word[idx1], word[idx2] = word[idx2], word[idx1]\n",
    "        word = ''.join(word)\n",
    "    return word"
   ]
  },
  {
   "cell_type": "markdown",
   "id": "2d842fdc",
   "metadata": {},
   "source": [
    "### Defining inversion\n",
    "Inversion occurs when two positions are randomly selected and the sequence of letters between is inverted."
   ]
  },
  {
   "cell_type": "code",
   "execution_count": 12,
   "id": "5e36bcdd",
   "metadata": {},
   "outputs": [],
   "source": [
    "def invert(word, prob=0.02):\n",
    "    if random() < prob:\n",
    "        idx1, idx2 = sample(range(len(word)), 2)\n",
    "        idx1, idx2 = min(idx1,idx2), max(idx1,idx2)\n",
    "        word = list(word)\n",
    "        word[idx1:idx2] = reversed(word[idx1:idx2])\n",
    "        word = ''.join(word)\n",
    "    return word"
   ]
  },
  {
   "cell_type": "markdown",
   "id": "0737dd3f",
   "metadata": {},
   "source": [
    "### Defining crossover"
   ]
  },
  {
   "cell_type": "code",
   "execution_count": 11,
   "id": "7b6c8395",
   "metadata": {},
   "outputs": [],
   "source": [
    "def crossover(parent1, parent2, prob=0.5):\n",
    "    child1, child2 = parent1, parent2\n",
    "    if random() < prob:\n",
    "        split = randrange(1, len(parent1)-1)\n",
    "        child1 = parent1[:split] + parent2[split:]\n",
    "        child2 = parent2[:split] + parent1[split:]\n",
    "    return [child1, child2]"
   ]
  },
  {
   "cell_type": "code",
   "execution_count": null,
   "id": "52d46433",
   "metadata": {},
   "outputs": [],
   "source": []
  }
 ],
 "metadata": {
  "kernelspec": {
   "display_name": "Python 3 (ipykernel)",
   "language": "python",
   "name": "python3"
  },
  "language_info": {
   "codemirror_mode": {
    "name": "ipython",
    "version": 3
   },
   "file_extension": ".py",
   "mimetype": "text/x-python",
   "name": "python",
   "nbconvert_exporter": "python",
   "pygments_lexer": "ipython3",
   "version": "3.10.6"
  }
 },
 "nbformat": 4,
 "nbformat_minor": 5
}
